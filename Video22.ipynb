{
  "nbformat": 4,
  "nbformat_minor": 0,
  "metadata": {
    "colab": {
      "name": "Video22.ipynb",
      "provenance": []
    },
    "kernelspec": {
      "name": "python3",
      "display_name": "Python 3"
    },
    "language_info": {
      "name": "python"
    }
  },
  "cells": [
    {
      "cell_type": "code",
      "metadata": {
        "id": "536gZNgPive2"
      },
      "source": [
        "s = \"amirhossein babaeayan\"\n"
      ],
      "execution_count": null,
      "outputs": []
    },
    {
      "cell_type": "code",
      "metadata": {
        "colab": {
          "base_uri": "https://localhost:8080/"
        },
        "id": "d27_veDejYEt",
        "outputId": "9d2bd13e-1c57-4805-f526-3a0268fde405"
      },
      "source": [
        "print(type(s))"
      ],
      "execution_count": null,
      "outputs": [
        {
          "output_type": "stream",
          "name": "stdout",
          "text": [
            "<class 'str'>\n"
          ]
        }
      ]
    },
    {
      "cell_type": "code",
      "metadata": {
        "colab": {
          "base_uri": "https://localhost:8080/",
          "height": 36
        },
        "id": "WAcTkB5LjcTG",
        "outputId": "b9ab3617-3f03-4dab-d8d0-5b05036f9c89"
      },
      "source": [
        "s.capitalize()"
      ],
      "execution_count": null,
      "outputs": [
        {
          "output_type": "execute_result",
          "data": {
            "application/vnd.google.colaboratory.intrinsic+json": {
              "type": "string"
            },
            "text/plain": [
              "'Amirhossein babaeayan'"
            ]
          },
          "metadata": {},
          "execution_count": 4
        }
      ]
    },
    {
      "cell_type": "code",
      "metadata": {
        "colab": {
          "base_uri": "https://localhost:8080/",
          "height": 36
        },
        "id": "rYj-YfYejqIS",
        "outputId": "46b1e709-1c05-4c8e-f98f-479da3be9d23"
      },
      "source": [
        "s"
      ],
      "execution_count": null,
      "outputs": [
        {
          "output_type": "execute_result",
          "data": {
            "application/vnd.google.colaboratory.intrinsic+json": {
              "type": "string"
            },
            "text/plain": [
              "'amirhossein babaeayan'"
            ]
          },
          "metadata": {},
          "execution_count": 5
        }
      ]
    },
    {
      "cell_type": "code",
      "metadata": {
        "id": "cJXnr3fOjrLx"
      },
      "source": [
        "class Shape:\n",
        "  def __init__(self, x, y):\n",
        "    self.x = x\n",
        "    self.y = y\n",
        "  \n",
        "  def s(self):\n",
        "    return self.x * self.y\n",
        "  \n",
        "  def p(self):\n",
        "    return 2*(self.x + self.y)\n",
        "  "
      ],
      "execution_count": null,
      "outputs": []
    },
    {
      "cell_type": "code",
      "metadata": {
        "id": "NRdSLJFgk8Hy"
      },
      "source": [
        "sh = Shape(2,4)"
      ],
      "execution_count": null,
      "outputs": []
    },
    {
      "cell_type": "code",
      "metadata": {
        "colab": {
          "base_uri": "https://localhost:8080/"
        },
        "id": "NRes5DtylFiM",
        "outputId": "9f9b2bab-e26c-4055-e914-b2cae201a56a"
      },
      "source": [
        "print(type(sh))"
      ],
      "execution_count": null,
      "outputs": [
        {
          "output_type": "stream",
          "name": "stdout",
          "text": [
            "<class '__main__.Shape'>\n"
          ]
        }
      ]
    },
    {
      "cell_type": "code",
      "metadata": {
        "colab": {
          "base_uri": "https://localhost:8080/"
        },
        "id": "yjSUKjyTlGvA",
        "outputId": "5ec5cd84-c658-43f1-d21f-383132380ba6"
      },
      "source": [
        "sh.s()"
      ],
      "execution_count": null,
      "outputs": [
        {
          "output_type": "execute_result",
          "data": {
            "text/plain": [
              "8"
            ]
          },
          "metadata": {},
          "execution_count": 17
        }
      ]
    },
    {
      "cell_type": "code",
      "metadata": {
        "colab": {
          "base_uri": "https://localhost:8080/"
        },
        "id": "a6-yKjxUlRls",
        "outputId": "02d93f8b-6bea-48e7-8361-5f69653ace3e"
      },
      "source": [
        "sh.x"
      ],
      "execution_count": null,
      "outputs": [
        {
          "output_type": "execute_result",
          "data": {
            "text/plain": [
              "2"
            ]
          },
          "metadata": {},
          "execution_count": 11
        }
      ]
    },
    {
      "cell_type": "code",
      "metadata": {
        "colab": {
          "base_uri": "https://localhost:8080/"
        },
        "id": "EV3KeUpslT6A",
        "outputId": "92636ca7-015a-46d9-b13b-3d1eaec63562"
      },
      "source": [
        "sh.y"
      ],
      "execution_count": null,
      "outputs": [
        {
          "output_type": "execute_result",
          "data": {
            "text/plain": [
              "4"
            ]
          },
          "metadata": {},
          "execution_count": 12
        }
      ]
    },
    {
      "cell_type": "code",
      "metadata": {
        "colab": {
          "base_uri": "https://localhost:8080/"
        },
        "id": "vGFbL1malUfZ",
        "outputId": "bc133d0e-e179-457b-c041-c41c1dcdee46"
      },
      "source": [
        "sh.p()"
      ],
      "execution_count": null,
      "outputs": [
        {
          "output_type": "execute_result",
          "data": {
            "text/plain": [
              "12"
            ]
          },
          "metadata": {},
          "execution_count": 18
        }
      ]
    },
    {
      "cell_type": "code",
      "metadata": {
        "colab": {
          "base_uri": "https://localhost:8080/"
        },
        "id": "6tKkg7dzlpiE",
        "outputId": "61bb5638-9ceb-401e-821a-959ad7effcc0"
      },
      "source": [
        "shape_x = 2\n",
        "shape_y = 4\n",
        "\n",
        "def s(x,y):\n",
        "  return(x*y)\n",
        "\n",
        "print(\"s = \", s(shape_x, shape_y))"
      ],
      "execution_count": null,
      "outputs": [
        {
          "output_type": "stream",
          "name": "stdout",
          "text": [
            "s =  8\n"
          ]
        }
      ]
    },
    {
      "cell_type": "code",
      "metadata": {
        "id": "zfNftBQil91C"
      },
      "source": [
        "class Square(Shape):\n",
        "  \n",
        "  def __init__(self, x):\n",
        "    self.x = x\n",
        "    self.y = x\n",
        "  \n",
        "  def xxx(self):\n",
        "    return self.x\n",
        "\n",
        "  def s(self):\n",
        "    return self.x ** 3"
      ],
      "execution_count": null,
      "outputs": []
    },
    {
      "cell_type": "code",
      "metadata": {
        "id": "MLNlQCoUmwpX"
      },
      "source": [
        "sq = Square(5)"
      ],
      "execution_count": null,
      "outputs": []
    },
    {
      "cell_type": "code",
      "metadata": {
        "colab": {
          "base_uri": "https://localhost:8080/"
        },
        "id": "RlatCap8mz_-",
        "outputId": "a0990839-d351-45d2-cf1c-07bccdc2c7bd"
      },
      "source": [
        "sq.s()"
      ],
      "execution_count": null,
      "outputs": [
        {
          "output_type": "execute_result",
          "data": {
            "text/plain": [
              "125"
            ]
          },
          "metadata": {},
          "execution_count": 36
        }
      ]
    },
    {
      "cell_type": "code",
      "metadata": {
        "colab": {
          "base_uri": "https://localhost:8080/"
        },
        "id": "SNY7QRN-m2sa",
        "outputId": "c0e7aab1-784d-4eac-f2d9-2cd7e8e6cf84"
      },
      "source": [
        "sq.p()"
      ],
      "execution_count": null,
      "outputs": [
        {
          "output_type": "execute_result",
          "data": {
            "text/plain": [
              "20"
            ]
          },
          "metadata": {},
          "execution_count": 27
        }
      ]
    },
    {
      "cell_type": "code",
      "metadata": {
        "colab": {
          "base_uri": "https://localhost:8080/"
        },
        "id": "5QSrrrLlm4vU",
        "outputId": "c2fe530c-b478-4690-ae35-3ee9c9294909"
      },
      "source": [
        "sq.xxx()"
      ],
      "execution_count": null,
      "outputs": [
        {
          "output_type": "execute_result",
          "data": {
            "text/plain": [
              "5"
            ]
          },
          "metadata": {},
          "execution_count": 28
        }
      ]
    },
    {
      "cell_type": "code",
      "metadata": {
        "id": "Nm97CUXpnO6-"
      },
      "source": [
        "sp = Shape(4,6)"
      ],
      "execution_count": null,
      "outputs": []
    },
    {
      "cell_type": "code",
      "metadata": {
        "colab": {
          "base_uri": "https://localhost:8080/",
          "height": 172
        },
        "id": "TOfgQOuwnTou",
        "outputId": "a44e6226-f79e-4f27-be10-46ad5f399340"
      },
      "source": [
        "sp.xxx()"
      ],
      "execution_count": null,
      "outputs": [
        {
          "output_type": "error",
          "ename": "AttributeError",
          "evalue": "ignored",
          "traceback": [
            "\u001b[0;31m---------------------------------------------------------------------------\u001b[0m",
            "\u001b[0;31mAttributeError\u001b[0m                            Traceback (most recent call last)",
            "\u001b[0;32m<ipython-input-30-78bcee38277c>\u001b[0m in \u001b[0;36m<module>\u001b[0;34m()\u001b[0m\n\u001b[0;32m----> 1\u001b[0;31m \u001b[0msp\u001b[0m\u001b[0;34m.\u001b[0m\u001b[0mxxx\u001b[0m\u001b[0;34m(\u001b[0m\u001b[0;34m)\u001b[0m\u001b[0;34m\u001b[0m\u001b[0;34m\u001b[0m\u001b[0m\n\u001b[0m",
            "\u001b[0;31mAttributeError\u001b[0m: 'Shape' object has no attribute 'xxx'"
          ]
        }
      ]
    },
    {
      "cell_type": "code",
      "metadata": {
        "colab": {
          "base_uri": "https://localhost:8080/"
        },
        "id": "SGu_ER-hnXwj",
        "outputId": "ea6f3464-5c65-48c4-8a94-ffe471b1fd13"
      },
      "source": [
        "type(Square)"
      ],
      "execution_count": null,
      "outputs": [
        {
          "output_type": "execute_result",
          "data": {
            "text/plain": [
              "type"
            ]
          },
          "metadata": {},
          "execution_count": 33
        }
      ]
    },
    {
      "cell_type": "code",
      "metadata": {
        "id": "P50G-pwOnhwX"
      },
      "source": [
        "class Circle:\n",
        "  pi = 3.14\n",
        "  \n",
        "  def __init__(self, r):\n",
        "    self.r = r\n",
        "  \n",
        "  def p(self):\n",
        "    return 2*self.pi*self.r"
      ],
      "execution_count": null,
      "outputs": []
    },
    {
      "cell_type": "code",
      "metadata": {
        "id": "g6SQeS29ohIn"
      },
      "source": [
        "c1 = Circle(5)"
      ],
      "execution_count": null,
      "outputs": []
    },
    {
      "cell_type": "code",
      "metadata": {
        "colab": {
          "base_uri": "https://localhost:8080/"
        },
        "id": "XF5UMsb6okC2",
        "outputId": "61b49297-33a9-415d-e670-82dde916c69a"
      },
      "source": [
        "c1.p()"
      ],
      "execution_count": null,
      "outputs": [
        {
          "output_type": "execute_result",
          "data": {
            "text/plain": [
              "31.400000000000002"
            ]
          },
          "metadata": {},
          "execution_count": 51
        }
      ]
    },
    {
      "cell_type": "code",
      "metadata": {
        "id": "kaoR7sVHot6_"
      },
      "source": [
        "class Circle2:\n",
        "  pi = 3.14\n",
        "  r = 1\n",
        "  def set_r(self, ra):\n",
        "    self.r = ra\n",
        "  def p(self):\n",
        "    return 2*self.pi*self.r"
      ],
      "execution_count": null,
      "outputs": []
    },
    {
      "cell_type": "code",
      "metadata": {
        "id": "RK9KvaS4pQd2"
      },
      "source": [
        "c2 = Circle2()"
      ],
      "execution_count": null,
      "outputs": []
    },
    {
      "cell_type": "code",
      "metadata": {
        "colab": {
          "base_uri": "https://localhost:8080/"
        },
        "id": "NBa0hNGOpT_U",
        "outputId": "e3a8fa4f-c793-4596-908a-2d4a1f085274"
      },
      "source": [
        "c2.pi"
      ],
      "execution_count": null,
      "outputs": [
        {
          "output_type": "execute_result",
          "data": {
            "text/plain": [
              "3.14"
            ]
          },
          "metadata": {},
          "execution_count": 66
        }
      ]
    },
    {
      "cell_type": "code",
      "metadata": {
        "colab": {
          "base_uri": "https://localhost:8080/"
        },
        "id": "5PjcSp2bpXyS",
        "outputId": "6c18d459-c2e5-4907-f96a-d43ae2c6339b"
      },
      "source": [
        "c2.p()"
      ],
      "execution_count": null,
      "outputs": [
        {
          "output_type": "execute_result",
          "data": {
            "text/plain": [
              "6.28"
            ]
          },
          "metadata": {},
          "execution_count": 67
        }
      ]
    },
    {
      "cell_type": "code",
      "metadata": {
        "id": "dQKb--ctpZ-N"
      },
      "source": [
        "c2.set_r(5)"
      ],
      "execution_count": null,
      "outputs": []
    },
    {
      "cell_type": "code",
      "metadata": {
        "colab": {
          "base_uri": "https://localhost:8080/"
        },
        "id": "9de6xl2apqcy",
        "outputId": "a05c183d-babe-4b95-bdd0-ec86a4fe56ec"
      },
      "source": [
        "c2.p()"
      ],
      "execution_count": null,
      "outputs": [
        {
          "output_type": "execute_result",
          "data": {
            "text/plain": [
              "31.400000000000002"
            ]
          },
          "metadata": {},
          "execution_count": 69
        }
      ]
    },
    {
      "cell_type": "code",
      "metadata": {
        "colab": {
          "base_uri": "https://localhost:8080/"
        },
        "id": "TQBQBQVNpr2A",
        "outputId": "fd8020ca-7754-4445-fb92-52f83495af33"
      },
      "source": [
        "c2.p()"
      ],
      "execution_count": null,
      "outputs": [
        {
          "output_type": "execute_result",
          "data": {
            "text/plain": [
              "6.283"
            ]
          },
          "metadata": {},
          "execution_count": 63
        }
      ]
    },
    {
      "cell_type": "code",
      "metadata": {
        "id": "UmeStT5yptXs"
      },
      "source": [
        ""
      ],
      "execution_count": null,
      "outputs": []
    }
  ]
}