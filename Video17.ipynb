{
  "nbformat": 4,
  "nbformat_minor": 0,
  "metadata": {
    "colab": {
      "name": "Video17.ipynb",
      "provenance": []
    },
    "kernelspec": {
      "name": "python3",
      "display_name": "Python 3"
    },
    "language_info": {
      "name": "python"
    }
  },
  "cells": [
    {
      "cell_type": "code",
      "metadata": {
        "colab": {
          "base_uri": "https://localhost:8080/"
        },
        "id": "cRA5e9RIUY7C",
        "outputId": "e5ab45ed-8958-45b6-c2ef-6d9987d90a34"
      },
      "source": [
        "#function \n",
        "'''\n",
        "def name(input1, input2, ...):\n",
        "  ----\n",
        "  ----\n",
        "  ----\n",
        "  return output1,out2,...\n",
        "'''\n",
        "print(\"Function\") "
      ],
      "execution_count": 1,
      "outputs": [
        {
          "output_type": "stream",
          "name": "stdout",
          "text": [
            "Function\n"
          ]
        }
      ]
    },
    {
      "cell_type": "code",
      "metadata": {
        "colab": {
          "base_uri": "https://localhost:8080/"
        },
        "id": "pmfsNyGTWoEN",
        "outputId": "231b0af0-f454-4dc5-de1d-b614c35d7a84"
      },
      "source": [
        "#power \n",
        "\n",
        "x = int(input(\"paye :\"))\n",
        "y = int(input(\"tavan : \"))\n",
        "p = 1\n",
        "for i in range(y):\n",
        "  p=p*x\n",
        "print(x, \"^\", y, \"=\", p)"
      ],
      "execution_count": 3,
      "outputs": [
        {
          "output_type": "stream",
          "name": "stdout",
          "text": [
            "paye :2\n",
            "tavan : 3\n",
            "2 ^ 3 = 8\n"
          ]
        }
      ]
    },
    {
      "cell_type": "code",
      "metadata": {
        "id": "euARdwUgXyiF"
      },
      "source": [
        "def power(paye, tavan):\n",
        "  o = 1\n",
        "  for i in range(tavan):\n",
        "    o = o * paye\n",
        "  return o"
      ],
      "execution_count": 4,
      "outputs": []
    },
    {
      "cell_type": "code",
      "metadata": {
        "colab": {
          "base_uri": "https://localhost:8080/"
        },
        "id": "h_5idDKWYWAO",
        "outputId": "787293b6-3a27-433c-9be7-60939112d1c2"
      },
      "source": [
        "power(2,3)"
      ],
      "execution_count": 5,
      "outputs": [
        {
          "output_type": "execute_result",
          "data": {
            "text/plain": [
              "8"
            ]
          },
          "metadata": {},
          "execution_count": 5
        }
      ]
    },
    {
      "cell_type": "code",
      "metadata": {
        "colab": {
          "base_uri": "https://localhost:8080/"
        },
        "id": "DAfGJ-oMYXG_",
        "outputId": "c3308341-4ad6-4bde-e0cd-f7b0cf7cc7a6"
      },
      "source": [
        "power(3,4)"
      ],
      "execution_count": 6,
      "outputs": [
        {
          "output_type": "execute_result",
          "data": {
            "text/plain": [
              "81"
            ]
          },
          "metadata": {},
          "execution_count": 6
        }
      ]
    },
    {
      "cell_type": "code",
      "metadata": {
        "colab": {
          "base_uri": "https://localhost:8080/"
        },
        "id": "jJRKkoelYYzN",
        "outputId": "a5b1ca50-ed3b-4799-9f26-4468387ecde1"
      },
      "source": [
        "power(4,4)"
      ],
      "execution_count": 7,
      "outputs": [
        {
          "output_type": "execute_result",
          "data": {
            "text/plain": [
              "256"
            ]
          },
          "metadata": {},
          "execution_count": 7
        }
      ]
    },
    {
      "cell_type": "code",
      "metadata": {
        "colab": {
          "base_uri": "https://localhost:8080/"
        },
        "id": "VRw_B9E0Ya6p",
        "outputId": "f536edf8-ac75-4768-8cb1-27c9e8781453"
      },
      "source": [
        "power(1,2)"
      ],
      "execution_count": 8,
      "outputs": [
        {
          "output_type": "execute_result",
          "data": {
            "text/plain": [
              "1"
            ]
          },
          "metadata": {},
          "execution_count": 8
        }
      ]
    },
    {
      "cell_type": "code",
      "metadata": {
        "colab": {
          "base_uri": "https://localhost:8080/"
        },
        "id": "wCLShQ12YdPV",
        "outputId": "37dcbe4a-1894-4cfc-f490-ae7d29ddac91"
      },
      "source": [
        "x = 2\n",
        "y = 3\n",
        "power(x,y)"
      ],
      "execution_count": 9,
      "outputs": [
        {
          "output_type": "execute_result",
          "data": {
            "text/plain": [
              "8"
            ]
          },
          "metadata": {},
          "execution_count": 9
        }
      ]
    },
    {
      "cell_type": "code",
      "metadata": {
        "colab": {
          "base_uri": "https://localhost:8080/"
        },
        "id": "fkaR-2EsYizQ",
        "outputId": "54f19801-f7fb-4924-b008-e86143fe25a8"
      },
      "source": [
        "x = int(input(\"paye :\"))\n",
        "y = int(input(\"tavan : \"))\n",
        "r = power(x,y)\n",
        "print(type(r))\n",
        "print(x,\"^\",y,\"=\",r)"
      ],
      "execution_count": 12,
      "outputs": [
        {
          "output_type": "stream",
          "name": "stdout",
          "text": [
            "paye :2\n",
            "tavan : 12\n",
            "<class 'int'>\n",
            "2 ^ 12 = 4096\n"
          ]
        }
      ]
    },
    {
      "cell_type": "code",
      "metadata": {
        "id": "qdpzILK1Ysaf"
      },
      "source": [
        "def print_etelaat(name, age, ghad):\n",
        "  print(\"name :\", name, type(name))\n",
        "  print(\"age :\", age, type(age))\n",
        "  print(\"ghad :\", ghad, type(ghad))"
      ],
      "execution_count": 15,
      "outputs": []
    },
    {
      "cell_type": "code",
      "metadata": {
        "colab": {
          "base_uri": "https://localhost:8080/"
        },
        "id": "2XCGhPdQaXi1",
        "outputId": "3301f3ca-c643-4fbe-a2fa-c0764a6c0478"
      },
      "source": [
        "print_etelaat(\"ali\", 20, 179.6)"
      ],
      "execution_count": 16,
      "outputs": [
        {
          "output_type": "stream",
          "name": "stdout",
          "text": [
            "name : ali <class 'str'>\n",
            "age : 20 <class 'int'>\n",
            "ghad : 179.6 <class 'float'>\n"
          ]
        }
      ]
    },
    {
      "cell_type": "code",
      "metadata": {
        "colab": {
          "base_uri": "https://localhost:8080/"
        },
        "id": "J3b2Uxnmac4m",
        "outputId": "f7e064b6-440d-4888-bb38-caaa24bcc0f0"
      },
      "source": [
        "n = \"amirhossein\"\n",
        "a = 24\n",
        "g = 187.3\n",
        "print_etelaat(n,a, g )"
      ],
      "execution_count": 17,
      "outputs": [
        {
          "output_type": "stream",
          "name": "stdout",
          "text": [
            "name : amirhossein <class 'str'>\n",
            "age : 24 <class 'int'>\n",
            "ghad : 187.3 <class 'float'>\n"
          ]
        }
      ]
    },
    {
      "cell_type": "code",
      "metadata": {
        "colab": {
          "base_uri": "https://localhost:8080/"
        },
        "id": "fmcYsfn2atjP",
        "outputId": "6b36e944-b563-4c71-b5dd-3dfaed45d8cd"
      },
      "source": [
        "name = \"amirhossein\"\n",
        "age = 24\n",
        "ghad = 187.3\n",
        "print_etelaat(name,age, ghad )"
      ],
      "execution_count": 18,
      "outputs": [
        {
          "output_type": "stream",
          "name": "stdout",
          "text": [
            "name : amirhossein <class 'str'>\n",
            "age : 24 <class 'int'>\n",
            "ghad : 187.3 <class 'float'>\n"
          ]
        }
      ]
    },
    {
      "cell_type": "code",
      "metadata": {
        "id": "2aJvMRr9a2UU"
      },
      "source": [
        "def powert(paye, tavan):\n",
        "  o = 1\n",
        "  x = 75\n",
        "  for i in range(tavan):\n",
        "    o = o * paye\n",
        "  return o, x, o*7"
      ],
      "execution_count": 24,
      "outputs": []
    },
    {
      "cell_type": "code",
      "metadata": {
        "colab": {
          "base_uri": "https://localhost:8080/"
        },
        "id": "E2fssT6nbM4a",
        "outputId": "ac02166b-a7bc-4d76-e2cd-b571f420dde8"
      },
      "source": [
        "x,y,z = powert(5,2)\n",
        "print(x,y,z)"
      ],
      "execution_count": 25,
      "outputs": [
        {
          "output_type": "stream",
          "name": "stdout",
          "text": [
            "25 75 175\n"
          ]
        }
      ]
    },
    {
      "cell_type": "code",
      "metadata": {
        "id": "wpHnBGaKbSus"
      },
      "source": [
        ""
      ],
      "execution_count": null,
      "outputs": []
    }
  ]
}