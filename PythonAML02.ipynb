{
  "nbformat": 4,
  "nbformat_minor": 0,
  "metadata": {
    "colab": {
      "provenance": []
    },
    "kernelspec": {
      "name": "python3",
      "display_name": "Python 3"
    },
    "language_info": {
      "name": "python"
    }
  },
  "cells": [
    {
      "cell_type": "code",
      "execution_count": null,
      "metadata": {
        "id": "SsfUOnSO_MQq"
      },
      "outputs": [],
      "source": [
        "#len\n",
        "def len_string(string ):\n",
        "  return len(string)"
      ]
    },
    {
      "cell_type": "code",
      "source": [
        "x = \"amirhossein\"\n",
        "print(len_string(x))"
      ],
      "metadata": {
        "colab": {
          "base_uri": "https://localhost:8080/"
        },
        "id": "_e2weEEpCDEZ",
        "outputId": "2a57c999-353c-4e64-e05b-52e72c573600"
      },
      "execution_count": null,
      "outputs": [
        {
          "output_type": "stream",
          "name": "stdout",
          "text": [
            "11\n"
          ]
        }
      ]
    },
    {
      "cell_type": "code",
      "source": [
        "def sum3(a, b, c=0):\n",
        "  return a+b+c\n"
      ],
      "metadata": {
        "id": "IUWdcwirCMuK"
      },
      "execution_count": null,
      "outputs": []
    },
    {
      "cell_type": "code",
      "source": [
        "print(sum3(1,2,3))"
      ],
      "metadata": {
        "colab": {
          "base_uri": "https://localhost:8080/"
        },
        "id": "esBxDrXiCYka",
        "outputId": "83653ca7-c7d0-4106-aff8-64d15450395d"
      },
      "execution_count": null,
      "outputs": [
        {
          "output_type": "stream",
          "name": "stdout",
          "text": [
            "6\n"
          ]
        }
      ]
    },
    {
      "cell_type": "code",
      "source": [
        "print(sum3(1,2))"
      ],
      "metadata": {
        "colab": {
          "base_uri": "https://localhost:8080/"
        },
        "id": "v1-BE0N8Ccqi",
        "outputId": "b10df147-56c0-4926-c9cb-1ff1ba63089f"
      },
      "execution_count": null,
      "outputs": [
        {
          "output_type": "stream",
          "name": "stdout",
          "text": [
            "3\n"
          ]
        }
      ]
    },
    {
      "cell_type": "code",
      "source": [
        "print(sum3(b=1,a=2))"
      ],
      "metadata": {
        "colab": {
          "base_uri": "https://localhost:8080/"
        },
        "id": "29-xmKPxCkRk",
        "outputId": "b0715fe7-f867-4c3f-a790-c0a41a1354c4"
      },
      "execution_count": null,
      "outputs": [
        {
          "output_type": "stream",
          "name": "stdout",
          "text": [
            "3\n"
          ]
        }
      ]
    },
    {
      "cell_type": "code",
      "source": [
        "# list\n",
        "l = []\n",
        "type(l)  "
      ],
      "metadata": {
        "colab": {
          "base_uri": "https://localhost:8080/"
        },
        "id": "gxYUkgNXCuaF",
        "outputId": "1a8ef0b3-ddd2-4d32-df30-efc4f4e8ffcf"
      },
      "execution_count": null,
      "outputs": [
        {
          "output_type": "execute_result",
          "data": {
            "text/plain": [
              "list"
            ]
          },
          "metadata": {},
          "execution_count": 14
        }
      ]
    },
    {
      "cell_type": "code",
      "source": [
        "l2 = list()\n",
        "type(l2)"
      ],
      "metadata": {
        "colab": {
          "base_uri": "https://localhost:8080/"
        },
        "id": "YKbdZHkCDhJM",
        "outputId": "07b65575-b400-4d15-e37f-3e4dbdc7a77e"
      },
      "execution_count": null,
      "outputs": [
        {
          "output_type": "execute_result",
          "data": {
            "text/plain": [
              "list"
            ]
          },
          "metadata": {},
          "execution_count": 15
        }
      ]
    },
    {
      "cell_type": "code",
      "source": [
        "l = [12,-23,+6,2000,8,6]\n",
        "print(len(l))"
      ],
      "metadata": {
        "colab": {
          "base_uri": "https://localhost:8080/"
        },
        "id": "cWkrzQ6fDn5L",
        "outputId": "24b12652-9e3f-4bbb-98a4-591c580f4152"
      },
      "execution_count": null,
      "outputs": [
        {
          "output_type": "stream",
          "name": "stdout",
          "text": [
            "6\n"
          ]
        }
      ]
    },
    {
      "cell_type": "code",
      "source": [
        "print(l)"
      ],
      "metadata": {
        "colab": {
          "base_uri": "https://localhost:8080/"
        },
        "id": "R6YN08UCDrOp",
        "outputId": "532d744e-2736-40fc-9a7f-3fa675eb15ce"
      },
      "execution_count": null,
      "outputs": [
        {
          "output_type": "stream",
          "name": "stdout",
          "text": [
            "[1, 2, 3, 4, 5, 6]\n"
          ]
        }
      ]
    },
    {
      "cell_type": "code",
      "source": [
        "# index 0-(len-1)\n",
        "l[0]"
      ],
      "metadata": {
        "colab": {
          "base_uri": "https://localhost:8080/"
        },
        "id": "lejHqeTtDs_2",
        "outputId": "89bc50a9-6a2c-4fc0-c242-2527720ab905"
      },
      "execution_count": null,
      "outputs": [
        {
          "output_type": "execute_result",
          "data": {
            "text/plain": [
              "12"
            ]
          },
          "metadata": {},
          "execution_count": 21
        }
      ]
    },
    {
      "cell_type": "code",
      "source": [
        "l.append(36000)\n",
        "l"
      ],
      "metadata": {
        "colab": {
          "base_uri": "https://localhost:8080/"
        },
        "id": "ajnPC0XzEA63",
        "outputId": "5cabe532-04ec-42b3-960f-926725ead107"
      },
      "execution_count": null,
      "outputs": [
        {
          "output_type": "execute_result",
          "data": {
            "text/plain": [
              "[12, -23, 6, 2000, 8, 6, 36000]"
            ]
          },
          "metadata": {},
          "execution_count": 22
        }
      ]
    },
    {
      "cell_type": "code",
      "source": [
        "numbers = l\n",
        "numbers"
      ],
      "metadata": {
        "colab": {
          "base_uri": "https://localhost:8080/"
        },
        "id": "P1PK81LNEQuk",
        "outputId": "40330089-b0dc-470f-e78e-c3e3c099aee9"
      },
      "execution_count": null,
      "outputs": [
        {
          "output_type": "execute_result",
          "data": {
            "text/plain": [
              "[12, -23, 6, 2000, 8, 6, 36000]"
            ]
          },
          "metadata": {},
          "execution_count": 25
        }
      ]
    },
    {
      "cell_type": "code",
      "source": [
        "#numbers[start:end-1]\n",
        "print(numbers[1:3])"
      ],
      "metadata": {
        "colab": {
          "base_uri": "https://localhost:8080/"
        },
        "id": "avmMbKE4Ec1W",
        "outputId": "c817679c-8c5f-4433-c4e1-82dc1ed8a764"
      },
      "execution_count": null,
      "outputs": [
        {
          "output_type": "stream",
          "name": "stdout",
          "text": [
            "[-23, 6, 2000, 8, 6, 36000]\n"
          ]
        }
      ]
    },
    {
      "cell_type": "code",
      "source": [
        "print(numbers[1:])"
      ],
      "metadata": {
        "colab": {
          "base_uri": "https://localhost:8080/"
        },
        "id": "6z-TZq2ME3Fe",
        "outputId": "d9d4b030-e486-4dcc-b33e-d9cf7c6643c2"
      },
      "execution_count": null,
      "outputs": [
        {
          "output_type": "stream",
          "name": "stdout",
          "text": [
            "[-23, 6, 2000, 8, 6, 36000]\n"
          ]
        }
      ]
    },
    {
      "cell_type": "code",
      "source": [
        "print(numbers[:3])"
      ],
      "metadata": {
        "colab": {
          "base_uri": "https://localhost:8080/"
        },
        "id": "XP1cfv1MFAx9",
        "outputId": "abb09193-ec56-4908-a467-ff539ed8ac16"
      },
      "execution_count": null,
      "outputs": [
        {
          "output_type": "stream",
          "name": "stdout",
          "text": [
            "[12, -23, 6]\n"
          ]
        }
      ]
    },
    {
      "cell_type": "code",
      "source": [
        "print(numbers[:])"
      ],
      "metadata": {
        "colab": {
          "base_uri": "https://localhost:8080/"
        },
        "id": "s1cd3_MAFFJs",
        "outputId": "c42838fc-0a84-4030-cc3d-12d7ed7105a5"
      },
      "execution_count": null,
      "outputs": [
        {
          "output_type": "stream",
          "name": "stdout",
          "text": [
            "[12, -23, 6, 2000, 8, 6, 36000]\n"
          ]
        }
      ]
    },
    {
      "cell_type": "code",
      "source": [
        "x"
      ],
      "metadata": {
        "colab": {
          "base_uri": "https://localhost:8080/",
          "height": 35
        },
        "id": "0qH2oGJzFGzJ",
        "outputId": "23ef91c1-4f61-46f8-cb63-1fd1c7211374"
      },
      "execution_count": null,
      "outputs": [
        {
          "output_type": "execute_result",
          "data": {
            "text/plain": [
              "'amirhossein'"
            ],
            "application/vnd.google.colaboratory.intrinsic+json": {
              "type": "string"
            }
          },
          "metadata": {},
          "execution_count": 31
        }
      ]
    },
    {
      "cell_type": "code",
      "source": [
        "x[:5]"
      ],
      "metadata": {
        "colab": {
          "base_uri": "https://localhost:8080/",
          "height": 35
        },
        "id": "_I30x7c2FMqY",
        "outputId": "864d2591-f475-464a-934e-8c682abb483e"
      },
      "execution_count": null,
      "outputs": [
        {
          "output_type": "execute_result",
          "data": {
            "text/plain": [
              "'amirh'"
            ],
            "application/vnd.google.colaboratory.intrinsic+json": {
              "type": "string"
            }
          },
          "metadata": {},
          "execution_count": 32
        }
      ]
    },
    {
      "cell_type": "code",
      "source": [
        "y = x[1:10]"
      ],
      "metadata": {
        "id": "tDUoFsS3FPB5"
      },
      "execution_count": null,
      "outputs": []
    },
    {
      "cell_type": "code",
      "source": [
        "y"
      ],
      "metadata": {
        "colab": {
          "base_uri": "https://localhost:8080/",
          "height": 35
        },
        "id": "iUCsuMSAFUGr",
        "outputId": "fae709bb-d5cb-48e4-d433-f249fb2d9b9f"
      },
      "execution_count": null,
      "outputs": [
        {
          "output_type": "execute_result",
          "data": {
            "text/plain": [
              "'mirhossei'"
            ],
            "application/vnd.google.colaboratory.intrinsic+json": {
              "type": "string"
            }
          },
          "metadata": {},
          "execution_count": 35
        }
      ]
    },
    {
      "cell_type": "code",
      "source": [
        "numbers2 = numbers[2:4]"
      ],
      "metadata": {
        "id": "sxET65p5FXtu"
      },
      "execution_count": null,
      "outputs": []
    },
    {
      "cell_type": "code",
      "source": [
        "numbers2"
      ],
      "metadata": {
        "colab": {
          "base_uri": "https://localhost:8080/"
        },
        "id": "ymhihFx0FcDV",
        "outputId": "c6a91a27-8f51-407e-e5c2-8da5d93cc3ed"
      },
      "execution_count": null,
      "outputs": [
        {
          "output_type": "execute_result",
          "data": {
            "text/plain": [
              "[6, 2000]"
            ]
          },
          "metadata": {},
          "execution_count": 37
        }
      ]
    },
    {
      "cell_type": "code",
      "source": [
        "numbers[-1]"
      ],
      "metadata": {
        "colab": {
          "base_uri": "https://localhost:8080/"
        },
        "id": "R56WjmClFdPD",
        "outputId": "d6754c6c-db54-43a1-9267-b33bb206222f"
      },
      "execution_count": null,
      "outputs": [
        {
          "output_type": "execute_result",
          "data": {
            "text/plain": [
              "36000"
            ]
          },
          "metadata": {},
          "execution_count": 46
        }
      ]
    },
    {
      "cell_type": "code",
      "source": [
        "numbers"
      ],
      "metadata": {
        "colab": {
          "base_uri": "https://localhost:8080/"
        },
        "id": "SnG2iFNsFoHP",
        "outputId": "ff1cda4a-f655-47e0-fc8a-f8ad1bd0e288"
      },
      "execution_count": null,
      "outputs": [
        {
          "output_type": "execute_result",
          "data": {
            "text/plain": [
              "[12, -23, 6, 2000, 8, 6, 36000]"
            ]
          },
          "metadata": {},
          "execution_count": 47
        }
      ]
    },
    {
      "cell_type": "code",
      "source": [
        "numbers2 = [0,1,999,777,88]\n",
        "numbers2"
      ],
      "metadata": {
        "colab": {
          "base_uri": "https://localhost:8080/"
        },
        "id": "MYIVo8IYGFe8",
        "outputId": "25e8f4f6-8b2f-43c4-ab7e-f5d7b377e2c0"
      },
      "execution_count": null,
      "outputs": [
        {
          "output_type": "execute_result",
          "data": {
            "text/plain": [
              "[0, 1, 999, 777, 88]"
            ]
          },
          "metadata": {},
          "execution_count": 49
        }
      ]
    },
    {
      "cell_type": "code",
      "source": [
        "num3 = numbers + numbers2"
      ],
      "metadata": {
        "id": "kvWyfgUhGLoS"
      },
      "execution_count": null,
      "outputs": []
    },
    {
      "cell_type": "code",
      "source": [
        "num3"
      ],
      "metadata": {
        "colab": {
          "base_uri": "https://localhost:8080/"
        },
        "id": "ZpJL60rpGPUr",
        "outputId": "ac048fa5-da44-46b4-b155-e0b1a769fdab"
      },
      "execution_count": null,
      "outputs": [
        {
          "output_type": "execute_result",
          "data": {
            "text/plain": [
              "[12, -23, 6, 2000, 8, 6, 36000, 0, 1, 999, 777, 88]"
            ]
          },
          "metadata": {},
          "execution_count": 52
        }
      ]
    },
    {
      "cell_type": "code",
      "source": [
        "num4 = numbers * numbers2"
      ],
      "metadata": {
        "colab": {
          "base_uri": "https://localhost:8080/",
          "height": 167
        },
        "id": "NzR8GtqXGS-Z",
        "outputId": "93dfbeb8-ef2d-4aa8-9b4a-4e5f10211117"
      },
      "execution_count": null,
      "outputs": [
        {
          "output_type": "error",
          "ename": "TypeError",
          "evalue": "ignored",
          "traceback": [
            "\u001b[0;31m---------------------------------------------------------------------------\u001b[0m",
            "\u001b[0;31mTypeError\u001b[0m                                 Traceback (most recent call last)",
            "\u001b[0;32m<ipython-input-53-973de180365b>\u001b[0m in \u001b[0;36m<module>\u001b[0;34m\u001b[0m\n\u001b[0;32m----> 1\u001b[0;31m \u001b[0mnum4\u001b[0m \u001b[0;34m=\u001b[0m \u001b[0mnumbers\u001b[0m \u001b[0;34m*\u001b[0m \u001b[0mnumbers2\u001b[0m\u001b[0;34m\u001b[0m\u001b[0;34m\u001b[0m\u001b[0m\n\u001b[0m",
            "\u001b[0;31mTypeError\u001b[0m: can't multiply sequence by non-int of type 'list'"
          ]
        }
      ]
    },
    {
      "cell_type": "code",
      "source": [
        "num4 = numbers2 * 3 # numbers2 + numbers2 + numbers2\n",
        "num4"
      ],
      "metadata": {
        "colab": {
          "base_uri": "https://localhost:8080/"
        },
        "id": "5zZGqu2iGX8L",
        "outputId": "d91f5057-1ee8-493e-dab3-69b0629bffe2"
      },
      "execution_count": null,
      "outputs": [
        {
          "output_type": "execute_result",
          "data": {
            "text/plain": [
              "[0, 1, 999, 777, 88, 0, 1, 999, 777, 88, 0, 1, 999, 777, 88]"
            ]
          },
          "metadata": {},
          "execution_count": 55
        }
      ]
    },
    {
      "cell_type": "code",
      "source": [
        "del(num4[3])"
      ],
      "metadata": {
        "id": "y4DWlrgIGoZ7"
      },
      "execution_count": null,
      "outputs": []
    },
    {
      "cell_type": "code",
      "source": [
        "num4"
      ],
      "metadata": {
        "colab": {
          "base_uri": "https://localhost:8080/"
        },
        "id": "TiqyuR_SG56E",
        "outputId": "b84927ed-2192-4b5e-d395-f9a6a360bfb0"
      },
      "execution_count": null,
      "outputs": [
        {
          "output_type": "execute_result",
          "data": {
            "text/plain": [
              "[0, 1, 999, 88, 0, 1, 999, 777, 88, 0, 1, 999, 777, 88]"
            ]
          },
          "metadata": {},
          "execution_count": 57
        }
      ]
    },
    {
      "cell_type": "code",
      "source": [
        "del(num4[8:])\n",
        "num4"
      ],
      "metadata": {
        "colab": {
          "base_uri": "https://localhost:8080/"
        },
        "id": "sPEkZq7LG644",
        "outputId": "5e451914-5748-4edf-ef30-5b1d7c907c9a"
      },
      "execution_count": null,
      "outputs": [
        {
          "output_type": "execute_result",
          "data": {
            "text/plain": [
              "[0, 1, 999, 88, 0, 1, 999, 777]"
            ]
          },
          "metadata": {},
          "execution_count": 58
        }
      ]
    },
    {
      "cell_type": "code",
      "source": [
        "# in \n",
        "12 in num4"
      ],
      "metadata": {
        "colab": {
          "base_uri": "https://localhost:8080/"
        },
        "id": "fgQqKcyhHCJm",
        "outputId": "215310b8-1d7a-47c3-bf63-027fd0dbad35"
      },
      "execution_count": null,
      "outputs": [
        {
          "output_type": "execute_result",
          "data": {
            "text/plain": [
              "False"
            ]
          },
          "metadata": {},
          "execution_count": 59
        }
      ]
    },
    {
      "cell_type": "code",
      "source": [
        "www = 999\n",
        "www in num4"
      ],
      "metadata": {
        "colab": {
          "base_uri": "https://localhost:8080/"
        },
        "id": "0inzvbYdHSNY",
        "outputId": "645d14f1-3ff9-4e5a-bc70-a147ddc1b822"
      },
      "execution_count": null,
      "outputs": [
        {
          "output_type": "execute_result",
          "data": {
            "text/plain": [
              "True"
            ]
          },
          "metadata": {},
          "execution_count": 61
        }
      ]
    },
    {
      "cell_type": "code",
      "source": [
        "y = 'a'\n",
        "y in x"
      ],
      "metadata": {
        "colab": {
          "base_uri": "https://localhost:8080/"
        },
        "id": "VM6KlokPHVSm",
        "outputId": "69dd4183-b425-4f2c-f614-8d573d456289"
      },
      "execution_count": null,
      "outputs": [
        {
          "output_type": "execute_result",
          "data": {
            "text/plain": [
              "True"
            ]
          },
          "metadata": {},
          "execution_count": 62
        }
      ]
    },
    {
      "cell_type": "code",
      "source": [
        "z = 'z'\n",
        "z in x #? F"
      ],
      "metadata": {
        "colab": {
          "base_uri": "https://localhost:8080/"
        },
        "id": "aLd8MUwUHm_g",
        "outputId": "005a55c4-3638-468a-e245-c44639e7ae35"
      },
      "execution_count": null,
      "outputs": [
        {
          "output_type": "execute_result",
          "data": {
            "text/plain": [
              "False"
            ]
          },
          "metadata": {},
          "execution_count": 63
        }
      ]
    },
    {
      "cell_type": "code",
      "source": [
        "# list , string\n",
        "x[0]"
      ],
      "metadata": {
        "colab": {
          "base_uri": "https://localhost:8080/",
          "height": 35
        },
        "id": "ISscEec9Hrjz",
        "outputId": "61a0efbd-ea7f-449c-b82a-080574cdfe51"
      },
      "execution_count": null,
      "outputs": [
        {
          "output_type": "execute_result",
          "data": {
            "text/plain": [
              "'a'"
            ],
            "application/vnd.google.colaboratory.intrinsic+json": {
              "type": "string"
            }
          },
          "metadata": {},
          "execution_count": 64
        }
      ]
    },
    {
      "cell_type": "code",
      "source": [
        "x[0] = '_' #Error"
      ],
      "metadata": {
        "colab": {
          "base_uri": "https://localhost:8080/",
          "height": 167
        },
        "id": "Fg0Q2KJCH2xh",
        "outputId": "a4898211-0744-46d0-b7c9-c8b000664720"
      },
      "execution_count": null,
      "outputs": [
        {
          "output_type": "error",
          "ename": "TypeError",
          "evalue": "ignored",
          "traceback": [
            "\u001b[0;31m---------------------------------------------------------------------------\u001b[0m",
            "\u001b[0;31mTypeError\u001b[0m                                 Traceback (most recent call last)",
            "\u001b[0;32m<ipython-input-65-93b01631793f>\u001b[0m in \u001b[0;36m<module>\u001b[0;34m\u001b[0m\n\u001b[0;32m----> 1\u001b[0;31m \u001b[0mx\u001b[0m\u001b[0;34m[\u001b[0m\u001b[0;36m0\u001b[0m\u001b[0;34m]\u001b[0m \u001b[0;34m=\u001b[0m \u001b[0;34m'_'\u001b[0m\u001b[0;34m\u001b[0m\u001b[0;34m\u001b[0m\u001b[0m\n\u001b[0m",
            "\u001b[0;31mTypeError\u001b[0m: 'str' object does not support item assignment"
          ]
        }
      ]
    },
    {
      "cell_type": "code",
      "source": [
        "name = list(x)\n",
        "name"
      ],
      "metadata": {
        "colab": {
          "base_uri": "https://localhost:8080/"
        },
        "id": "HuwocSpXH71Y",
        "outputId": "1b0ed38c-79a2-4a0f-e506-bf8587587694"
      },
      "execution_count": null,
      "outputs": [
        {
          "output_type": "execute_result",
          "data": {
            "text/plain": [
              "['a', 'm', 'i', 'r', 'h', 'o', 's', 's', 'e', 'i', 'n']"
            ]
          },
          "metadata": {},
          "execution_count": 66
        }
      ]
    },
    {
      "cell_type": "code",
      "source": [
        "name[0] = '_'"
      ],
      "metadata": {
        "id": "xcsSTqlFIbGb"
      },
      "execution_count": null,
      "outputs": []
    },
    {
      "cell_type": "code",
      "source": [
        "name"
      ],
      "metadata": {
        "colab": {
          "base_uri": "https://localhost:8080/"
        },
        "id": "ykKQG_2qIgu9",
        "outputId": "ff9f96f0-a29a-4703-9b66-f0ea921b09fb"
      },
      "execution_count": null,
      "outputs": [
        {
          "output_type": "execute_result",
          "data": {
            "text/plain": [
              "['_', 'm', 'i', 'r', 'h', 'o', 's', 's', 'e', 'i', 'n']"
            ]
          },
          "metadata": {},
          "execution_count": 68
        }
      ]
    },
    {
      "cell_type": "code",
      "source": [
        "aaaa = \"\".join(name) # list to string\n",
        "aaaa"
      ],
      "metadata": {
        "colab": {
          "base_uri": "https://localhost:8080/",
          "height": 35
        },
        "id": "s4sfQb58Ihpy",
        "outputId": "574de478-94ac-4c0f-f5a5-822de9300d9b"
      },
      "execution_count": null,
      "outputs": [
        {
          "output_type": "execute_result",
          "data": {
            "text/plain": [
              "'_mirhossein'"
            ],
            "application/vnd.google.colaboratory.intrinsic+json": {
              "type": "string"
            }
          },
          "metadata": {},
          "execution_count": 71
        }
      ]
    },
    {
      "cell_type": "code",
      "source": [
        "text = input(\"String : \") #\"salam khobi halet chetore\"\n",
        "text_list = text.split(\" \")\n",
        "print(text_list)"
      ],
      "metadata": {
        "colab": {
          "base_uri": "https://localhost:8080/"
        },
        "id": "2qSkgaFUIwyI",
        "outputId": "e05067f6-cc8a-4a05-f161-1ff6c8fff29c"
      },
      "execution_count": null,
      "outputs": [
        {
          "output_type": "stream",
          "name": "stdout",
          "text": [
            "String : salam khobi halet chetore\n",
            "['s', 'l', 'm khobi h', 'let chetore']\n"
          ]
        }
      ]
    },
    {
      "cell_type": "code",
      "source": [
        "#for \n",
        "# for(int i=0; i<n; i++)\n",
        "# for each - range-based\n",
        "names = [\"amir\", \"ali\", \"hasan\", \"omid\"]\n",
        "for name in names:\n",
        "  print(name)"
      ],
      "metadata": {
        "colab": {
          "base_uri": "https://localhost:8080/"
        },
        "id": "TtV7iMcuJaqt",
        "outputId": "2aefe456-41c9-4db3-bc45-5c09c3a5ed98"
      },
      "execution_count": null,
      "outputs": [
        {
          "output_type": "stream",
          "name": "stdout",
          "text": [
            "amir\n",
            "ali\n",
            "hasan\n",
            "omid\n"
          ]
        }
      ]
    },
    {
      "cell_type": "code",
      "source": [
        "# range\n",
        "range(0,10)"
      ],
      "metadata": {
        "colab": {
          "base_uri": "https://localhost:8080/"
        },
        "id": "6TmDKLKeM2ZB",
        "outputId": "16c5d6e6-340f-44cf-a17f-c200d41ef6a9"
      },
      "execution_count": null,
      "outputs": [
        {
          "output_type": "execute_result",
          "data": {
            "text/plain": [
              "range(0, 10)"
            ]
          },
          "metadata": {},
          "execution_count": 76
        }
      ]
    },
    {
      "cell_type": "code",
      "source": [
        "for i in range(1,len(names),2):\n",
        "  print('{} : {}'.format(str(i), names[i]))"
      ],
      "metadata": {
        "colab": {
          "base_uri": "https://localhost:8080/"
        },
        "id": "RtDMiLreNPcI",
        "outputId": "cfb52fb9-5dd4-4560-a82e-a1711e6068d2"
      },
      "execution_count": null,
      "outputs": [
        {
          "output_type": "stream",
          "name": "stdout",
          "text": [
            "1 : ali\n",
            "3 : omid\n"
          ]
        }
      ]
    },
    {
      "cell_type": "code",
      "source": [
        "# array vs list python ?\n",
        "com "
      ],
      "metadata": {
        "id": "Bf0p5C-aNh-3"
      },
      "execution_count": null,
      "outputs": []
    },
    {
      "cell_type": "code",
      "source": [],
      "metadata": {
        "id": "uD4qgyBMRSQE"
      },
      "execution_count": null,
      "outputs": []
    },
    {
      "cell_type": "markdown",
      "source": [
        "# ============"
      ],
      "metadata": {
        "id": "NhSwWLm-RS0N"
      }
    },
    {
      "cell_type": "code",
      "source": [
        "#tuple \n",
        "t = (2,5)"
      ],
      "metadata": {
        "id": "wRKr3yMCRUWO"
      },
      "execution_count": null,
      "outputs": []
    },
    {
      "cell_type": "code",
      "source": [
        "print(type(t))"
      ],
      "metadata": {
        "colab": {
          "base_uri": "https://localhost:8080/"
        },
        "id": "qGKeN0KERgyG",
        "outputId": "99f20c50-179c-4fba-81cb-e257bb36f24f"
      },
      "execution_count": null,
      "outputs": [
        {
          "output_type": "stream",
          "name": "stdout",
          "text": [
            "<class 'tuple'>\n"
          ]
        }
      ]
    },
    {
      "cell_type": "code",
      "source": [
        "a,b,srt = (2,3,5)\n",
        "print(b)"
      ],
      "metadata": {
        "colab": {
          "base_uri": "https://localhost:8080/"
        },
        "id": "oclXFVUtRjKb",
        "outputId": "e69ed501-68f4-495b-861c-046d1929fd2f"
      },
      "execution_count": null,
      "outputs": [
        {
          "output_type": "stream",
          "name": "stdout",
          "text": [
            "3\n"
          ]
        }
      ]
    },
    {
      "cell_type": "code",
      "source": [
        "srt"
      ],
      "metadata": {
        "colab": {
          "base_uri": "https://localhost:8080/"
        },
        "id": "X9ZIgoFSR7z3",
        "outputId": "b9ce2f1a-7bcd-441e-ee06-0c534672a8cc"
      },
      "execution_count": null,
      "outputs": [
        {
          "output_type": "execute_result",
          "data": {
            "text/plain": [
              "5"
            ]
          },
          "metadata": {},
          "execution_count": 97
        }
      ]
    },
    {
      "cell_type": "code",
      "source": [
        "d = {}\n",
        "d2 = dict()\n",
        "type(d)"
      ],
      "metadata": {
        "colab": {
          "base_uri": "https://localhost:8080/"
        },
        "id": "CmSkI29PR9D5",
        "outputId": "107a91ef-3d25-4406-8d98-ee74669819f2"
      },
      "execution_count": null,
      "outputs": [
        {
          "output_type": "execute_result",
          "data": {
            "text/plain": [
              "dict"
            ]
          },
          "metadata": {},
          "execution_count": 99
        }
      ]
    },
    {
      "cell_type": "code",
      "source": [
        "dict1 = {'1':'ali'}"
      ],
      "metadata": {
        "id": "ovsq6A-YSZi6"
      },
      "execution_count": null,
      "outputs": []
    },
    {
      "cell_type": "code",
      "source": [
        "fp = open('./sample_data/lorem.txt', 'r')"
      ],
      "metadata": {
        "id": "o3L0yMQzXDqy"
      },
      "execution_count": null,
      "outputs": []
    },
    {
      "cell_type": "code",
      "source": [
        "fp"
      ],
      "metadata": {
        "colab": {
          "base_uri": "https://localhost:8080/"
        },
        "id": "4AYcxM27XNTc",
        "outputId": "868f9a9f-4bac-4e18-8be4-c0931ac22fe9"
      },
      "execution_count": null,
      "outputs": [
        {
          "output_type": "execute_result",
          "data": {
            "text/plain": [
              "<_io.TextIOWrapper name='./sample_data/lorem.txt' mode='r' encoding='UTF-8'>"
            ]
          },
          "metadata": {},
          "execution_count": 103
        }
      ]
    },
    {
      "cell_type": "code",
      "source": [
        "txt = fp.read()\n",
        "txt"
      ],
      "metadata": {
        "colab": {
          "base_uri": "https://localhost:8080/",
          "height": 245
        },
        "id": "telHAsYNXVcH",
        "outputId": "bc797fb9-c077-477a-f61d-e363a5c5fdd5"
      },
      "execution_count": null,
      "outputs": [
        {
          "output_type": "execute_result",
          "data": {
            "text/plain": [
              "\"In Shakespeare's era (1564-1616), it was not profitable but very fashionable to write poetry. It also provided credibility to his talent as a writer and helped to enhance his social standing. It seems writing poetry was something he greatly enjoyed and did mainly for himself at times when he was not consumed with writing a play. Because of their more private nature, few poems, particularly long-form poems, have been published. The two longest works that scholars agree were written by Shakespeare are entitled Venus and Adonis and The Rape of Lucrece. Both dedicated to the Honorable Henry Wriothesley, Earl of Southampton, who seems to have acted as a sponsor and encouraging benefactor of Shakespeare's work for a brief time. Both of these poems contain dozens of stanzas and comment on the depravity of unwanted sexual advances, showing themes throughout of guilt, lust, and moral confusion. In Venus and Adonis, an innocent Adonis must reject the sexual advances of Venus. Conversely in The Rape of Lucrece, the honorable and virtuous wife Lucrece is raped a character overcome with lust, Tarquin. The dedication to Wriothesley is much warmer in the second poem, suggesting a deepening of their relationship and Shakespeare's appreciation of his support. \""
            ],
            "application/vnd.google.colaboratory.intrinsic+json": {
              "type": "string"
            }
          },
          "metadata": {},
          "execution_count": 104
        }
      ]
    },
    {
      "cell_type": "code",
      "source": [
        "fp.close()"
      ],
      "metadata": {
        "id": "PDCbZKBZXeTR"
      },
      "execution_count": null,
      "outputs": []
    },
    {
      "cell_type": "code",
      "source": [
        "len(txt.split(\".\"))"
      ],
      "metadata": {
        "colab": {
          "base_uri": "https://localhost:8080/"
        },
        "id": "FHfO6YlcXl-W",
        "outputId": "1f92722f-3a3e-49cf-ce61-16ae224640ed"
      },
      "execution_count": null,
      "outputs": [
        {
          "output_type": "execute_result",
          "data": {
            "text/plain": [
              "11"
            ]
          },
          "metadata": {},
          "execution_count": 108
        }
      ]
    },
    {
      "cell_type": "code",
      "source": [
        "with open('./sample_data/lorem.txt', 'r') as fp:\n",
        "  txt2 = fp.read()\n",
        "txt2"
      ],
      "metadata": {
        "colab": {
          "base_uri": "https://localhost:8080/",
          "height": 245
        },
        "id": "SBoMaWDnXpuA",
        "outputId": "972fded0-f7f0-4230-fb12-e868c77f273a"
      },
      "execution_count": null,
      "outputs": [
        {
          "output_type": "execute_result",
          "data": {
            "text/plain": [
              "\"In Shakespeare's era (1564-1616), it was not profitable but very fashionable to write poetry. It also provided credibility to his talent as a writer and helped to enhance his social standing. It seems writing poetry was something he greatly enjoyed and did mainly for himself at times when he was not consumed with writing a play. Because of their more private nature, few poems, particularly long-form poems, have been published. The two longest works that scholars agree were written by Shakespeare are entitled Venus and Adonis and The Rape of Lucrece. Both dedicated to the Honorable Henry Wriothesley, Earl of Southampton, who seems to have acted as a sponsor and encouraging benefactor of Shakespeare's work for a brief time. Both of these poems contain dozens of stanzas and comment on the depravity of unwanted sexual advances, showing themes throughout of guilt, lust, and moral confusion. In Venus and Adonis, an innocent Adonis must reject the sexual advances of Venus. Conversely in The Rape of Lucrece, the honorable and virtuous wife Lucrece is raped a character overcome with lust, Tarquin. The dedication to Wriothesley is much warmer in the second poem, suggesting a deepening of their relationship and Shakespeare's appreciation of his support. \""
            ],
            "application/vnd.google.colaboratory.intrinsic+json": {
              "type": "string"
            }
          },
          "metadata": {},
          "execution_count": 109
        }
      ]
    },
    {
      "cell_type": "code",
      "source": [
        "txt2.upper()"
      ],
      "metadata": {
        "colab": {
          "base_uri": "https://localhost:8080/",
          "height": 245
        },
        "id": "vK9syF_7Ygmu",
        "outputId": "a733bda6-9888-4b40-faae-2687c5714a7b"
      },
      "execution_count": null,
      "outputs": [
        {
          "output_type": "execute_result",
          "data": {
            "text/plain": [
              "\"IN SHAKESPEARE'S ERA (1564-1616), IT WAS NOT PROFITABLE BUT VERY FASHIONABLE TO WRITE POETRY. IT ALSO PROVIDED CREDIBILITY TO HIS TALENT AS A WRITER AND HELPED TO ENHANCE HIS SOCIAL STANDING. IT SEEMS WRITING POETRY WAS SOMETHING HE GREATLY ENJOYED AND DID MAINLY FOR HIMSELF AT TIMES WHEN HE WAS NOT CONSUMED WITH WRITING A PLAY. BECAUSE OF THEIR MORE PRIVATE NATURE, FEW POEMS, PARTICULARLY LONG-FORM POEMS, HAVE BEEN PUBLISHED. THE TWO LONGEST WORKS THAT SCHOLARS AGREE WERE WRITTEN BY SHAKESPEARE ARE ENTITLED VENUS AND ADONIS AND THE RAPE OF LUCRECE. BOTH DEDICATED TO THE HONORABLE HENRY WRIOTHESLEY, EARL OF SOUTHAMPTON, WHO SEEMS TO HAVE ACTED AS A SPONSOR AND ENCOURAGING BENEFACTOR OF SHAKESPEARE'S WORK FOR A BRIEF TIME. BOTH OF THESE POEMS CONTAIN DOZENS OF STANZAS AND COMMENT ON THE DEPRAVITY OF UNWANTED SEXUAL ADVANCES, SHOWING THEMES THROUGHOUT OF GUILT, LUST, AND MORAL CONFUSION. IN VENUS AND ADONIS, AN INNOCENT ADONIS MUST REJECT THE SEXUAL ADVANCES OF VENUS. CONVERSELY IN THE RAPE OF LUCRECE, THE HONORABLE AND VIRTUOUS WIFE LUCRECE IS RAPED A CHARACTER OVERCOME WITH LUST, TARQUIN. THE DEDICATION TO WRIOTHESLEY IS MUCH WARMER IN THE SECOND POEM, SUGGESTING A DEEPENING OF THEIR RELATIONSHIP AND SHAKESPEARE'S APPRECIATION OF HIS SUPPORT. \""
            ],
            "application/vnd.google.colaboratory.intrinsic+json": {
              "type": "string"
            }
          },
          "metadata": {},
          "execution_count": 110
        }
      ]
    },
    {
      "cell_type": "code",
      "source": [
        "dict1 = {'1':'ali', 'akbar': 5}"
      ],
      "metadata": {
        "id": "rsycKHs1YpGT"
      },
      "execution_count": null,
      "outputs": []
    },
    {
      "cell_type": "code",
      "source": [
        "dict1[\"5\"]"
      ],
      "metadata": {
        "colab": {
          "base_uri": "https://localhost:8080/",
          "height": 167
        },
        "id": "lCynpwLgYzUY",
        "outputId": "c3e70703-92e6-4a2f-e33b-f560a8073c37"
      },
      "execution_count": null,
      "outputs": [
        {
          "output_type": "error",
          "ename": "KeyError",
          "evalue": "ignored",
          "traceback": [
            "\u001b[0;31m---------------------------------------------------------------------------\u001b[0m",
            "\u001b[0;31mKeyError\u001b[0m                                  Traceback (most recent call last)",
            "\u001b[0;32m<ipython-input-112-106b5d54acb8>\u001b[0m in \u001b[0;36m<module>\u001b[0;34m\u001b[0m\n\u001b[0;32m----> 1\u001b[0;31m \u001b[0mdict1\u001b[0m\u001b[0;34m[\u001b[0m\u001b[0;34m\"5\"\u001b[0m\u001b[0;34m]\u001b[0m\u001b[0;34m\u001b[0m\u001b[0;34m\u001b[0m\u001b[0m\n\u001b[0m",
            "\u001b[0;31mKeyError\u001b[0m: '5'"
          ]
        }
      ]
    },
    {
      "cell_type": "code",
      "source": [
        "print(dict1.get('1', \"not found...\"))"
      ],
      "metadata": {
        "colab": {
          "base_uri": "https://localhost:8080/"
        },
        "id": "KR1emEjvY3Wa",
        "outputId": "9b0345eb-d107-410d-a0d4-0d51a6825ecd"
      },
      "execution_count": null,
      "outputs": [
        {
          "output_type": "stream",
          "name": "stdout",
          "text": [
            "ali\n"
          ]
        }
      ]
    },
    {
      "cell_type": "code",
      "source": [
        "for i in range(10):\n",
        "  print(i, end=\"\\t\")"
      ],
      "metadata": {
        "colab": {
          "base_uri": "https://localhost:8080/"
        },
        "id": "wtI9aSbOY8UN",
        "outputId": "c59c2db7-5dde-434e-f412-0d1a0a1744c0"
      },
      "execution_count": null,
      "outputs": [
        {
          "output_type": "stream",
          "name": "stdout",
          "text": [
            "0\t1\t2\t3\t4\t5\t6\t7\t8\t9\t"
          ]
        }
      ]
    },
    {
      "cell_type": "code",
      "source": [
        "for i in range(10):\n",
        "  if i%2 == 1:\n",
        "    continue\n",
        "  print(i, end=\"\\t\")\n",
        "  "
      ],
      "metadata": {
        "colab": {
          "base_uri": "https://localhost:8080/"
        },
        "id": "PpyzGpkOZR7b",
        "outputId": "0876cb43-be8b-4e0b-ec77-396a5e69364a"
      },
      "execution_count": null,
      "outputs": [
        {
          "output_type": "stream",
          "name": "stdout",
          "text": [
            "0\t2\t4\t6\t8\t"
          ]
        }
      ]
    },
    {
      "cell_type": "code",
      "source": [
        "for i in range(10):\n",
        "  if i == 5:\n",
        "    break\n",
        "  print(i, end=\"\\t\")"
      ],
      "metadata": {
        "colab": {
          "base_uri": "https://localhost:8080/"
        },
        "id": "C5mz-7BeZd06",
        "outputId": "c5dd4049-cc5b-4810-8ef7-7b91c7d97d61"
      },
      "execution_count": null,
      "outputs": [
        {
          "output_type": "stream",
          "name": "stdout",
          "text": [
            "0\t1\t2\t3\t4\t"
          ]
        }
      ]
    },
    {
      "cell_type": "code",
      "source": [],
      "metadata": {
        "id": "P57Ah-TyZ1FT"
      },
      "execution_count": null,
      "outputs": []
    }
  ]
}