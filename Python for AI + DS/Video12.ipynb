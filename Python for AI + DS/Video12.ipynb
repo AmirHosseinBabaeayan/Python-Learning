{
  "nbformat": 4,
  "nbformat_minor": 0,
  "metadata": {
    "colab": {
      "name": "Video12.ipynb",
      "provenance": []
    },
    "kernelspec": {
      "name": "python3",
      "display_name": "Python 3"
    },
    "language_info": {
      "name": "python"
    }
  },
  "cells": [
    {
      "cell_type": "code",
      "metadata": {
        "colab": {
          "base_uri": "https://localhost:8080/"
        },
        "id": "XC4xdQYiQo6w",
        "outputId": "678355f6-244e-4f81-9e2c-ff37cd0fd4e4"
      },
      "source": [
        "#str\n",
        "a = \"fagdjfsadbjas684123-=032839\"\n",
        "type(a)"
      ],
      "execution_count": 1,
      "outputs": [
        {
          "output_type": "execute_result",
          "data": {
            "text/plain": [
              "str"
            ]
          },
          "metadata": {},
          "execution_count": 1
        }
      ]
    },
    {
      "cell_type": "code",
      "metadata": {
        "colab": {
          "base_uri": "https://localhost:8080/",
          "height": 36
        },
        "id": "xoB41uB2Rv4B",
        "outputId": "c6dd0946-6c70-4325-9607-6ed8c7cc1748"
      },
      "source": [
        "a[6]"
      ],
      "execution_count": 2,
      "outputs": [
        {
          "output_type": "execute_result",
          "data": {
            "application/vnd.google.colaboratory.intrinsic+json": {
              "type": "string"
            },
            "text/plain": [
              "'s'"
            ]
          },
          "metadata": {},
          "execution_count": 2
        }
      ]
    },
    {
      "cell_type": "code",
      "metadata": {
        "id": "tcOoW-d2R42j"
      },
      "source": [
        "ac = a.capitalize()"
      ],
      "execution_count": 3,
      "outputs": []
    },
    {
      "cell_type": "code",
      "metadata": {
        "colab": {
          "base_uri": "https://localhost:8080/",
          "height": 36
        },
        "id": "a6TScovdR_1B",
        "outputId": "28fc2dfa-d2e7-4603-d112-7688a29cbad8"
      },
      "source": [
        "ac"
      ],
      "execution_count": 4,
      "outputs": [
        {
          "output_type": "execute_result",
          "data": {
            "application/vnd.google.colaboratory.intrinsic+json": {
              "type": "string"
            },
            "text/plain": [
              "'Fagdjfsadbjas684123-=032839'"
            ]
          },
          "metadata": {},
          "execution_count": 4
        }
      ]
    },
    {
      "cell_type": "code",
      "metadata": {
        "colab": {
          "base_uri": "https://localhost:8080/"
        },
        "id": "qWnvnlX8SAbR",
        "outputId": "cf43c7f3-4249-4197-e5ee-eff0ab7a2541"
      },
      "source": [
        "a.count(a[-2])"
      ],
      "execution_count": 8,
      "outputs": [
        {
          "output_type": "execute_result",
          "data": {
            "text/plain": [
              "3"
            ]
          },
          "metadata": {},
          "execution_count": 8
        }
      ]
    },
    {
      "cell_type": "code",
      "metadata": {
        "id": "hMdePQs5SHBc"
      },
      "source": [
        "au = a.upper()"
      ],
      "execution_count": 11,
      "outputs": []
    },
    {
      "cell_type": "code",
      "metadata": {
        "colab": {
          "base_uri": "https://localhost:8080/",
          "height": 36
        },
        "id": "eHLNajM5Si75",
        "outputId": "85acf47c-c8a5-4000-e5a8-4419a169e8a9"
      },
      "source": [
        "au"
      ],
      "execution_count": 12,
      "outputs": [
        {
          "output_type": "execute_result",
          "data": {
            "application/vnd.google.colaboratory.intrinsic+json": {
              "type": "string"
            },
            "text/plain": [
              "'FAGDJFSADBJAS684123-=032839'"
            ]
          },
          "metadata": {},
          "execution_count": 12
        }
      ]
    },
    {
      "cell_type": "code",
      "metadata": {
        "colab": {
          "base_uri": "https://localhost:8080/",
          "height": 36
        },
        "id": "Ogip2jI1Sl-y",
        "outputId": "fa99d677-9878-4724-a98d-98302d3671f2"
      },
      "source": [
        "au.lower()"
      ],
      "execution_count": 13,
      "outputs": [
        {
          "output_type": "execute_result",
          "data": {
            "application/vnd.google.colaboratory.intrinsic+json": {
              "type": "string"
            },
            "text/plain": [
              "'fagdjfsadbjas684123-=032839'"
            ]
          },
          "metadata": {},
          "execution_count": 13
        }
      ]
    },
    {
      "cell_type": "code",
      "metadata": {
        "colab": {
          "base_uri": "https://localhost:8080/"
        },
        "id": "SmSUGzwVSvDV",
        "outputId": "42703b83-c9c4-4149-8193-23e8b5d2d60c"
      },
      "source": [
        "inp = input()"
      ],
      "execution_count": 15,
      "outputs": [
        {
          "name": "stdout",
          "output_type": "stream",
          "text": [
            "ali-hasan-reza-amir\n"
          ]
        }
      ]
    },
    {
      "cell_type": "code",
      "metadata": {
        "colab": {
          "base_uri": "https://localhost:8080/"
        },
        "id": "5R0tjmNMTEX-",
        "outputId": "90bc8a04-8a8b-485b-b059-16ad9ccb0434"
      },
      "source": [
        "print(inp)"
      ],
      "execution_count": 16,
      "outputs": [
        {
          "output_type": "stream",
          "name": "stdout",
          "text": [
            "ali-hasan-reza-amir\n"
          ]
        }
      ]
    },
    {
      "cell_type": "code",
      "metadata": {
        "id": "1KTRT7xnTLuN"
      },
      "source": [
        "inpl = inp.split(\"-\")"
      ],
      "execution_count": 17,
      "outputs": []
    },
    {
      "cell_type": "code",
      "metadata": {
        "colab": {
          "base_uri": "https://localhost:8080/"
        },
        "id": "OdqmvLCETVzr",
        "outputId": "ac9814ed-cb14-4d85-aefc-82d3c8343e82"
      },
      "source": [
        "inpl"
      ],
      "execution_count": 19,
      "outputs": [
        {
          "output_type": "execute_result",
          "data": {
            "text/plain": [
              "['ali', 'hasan', 'reza', 'amir']"
            ]
          },
          "metadata": {},
          "execution_count": 19
        }
      ]
    },
    {
      "cell_type": "code",
      "metadata": {
        "colab": {
          "base_uri": "https://localhost:8080/"
        },
        "id": "7ag_CPKQTWrf",
        "outputId": "2c9edc50-34de-4dd3-ac5a-0373bb851c30"
      },
      "source": [
        "type(inpl)"
      ],
      "execution_count": 20,
      "outputs": [
        {
          "output_type": "execute_result",
          "data": {
            "text/plain": [
              "list"
            ]
          },
          "metadata": {},
          "execution_count": 20
        }
      ]
    },
    {
      "cell_type": "code",
      "metadata": {
        "colab": {
          "base_uri": "https://localhost:8080/",
          "height": 36
        },
        "id": "XQS0EzWKTcDG",
        "outputId": "18d2cc99-6d1e-4b94-c0bd-85dd881ee6fa"
      },
      "source": [
        "inpl[-2]"
      ],
      "execution_count": 21,
      "outputs": [
        {
          "output_type": "execute_result",
          "data": {
            "application/vnd.google.colaboratory.intrinsic+json": {
              "type": "string"
            },
            "text/plain": [
              "'reza'"
            ]
          },
          "metadata": {},
          "execution_count": 21
        }
      ]
    },
    {
      "cell_type": "code",
      "metadata": {
        "colab": {
          "base_uri": "https://localhost:8080/"
        },
        "id": "S1UTp44CTiJg",
        "outputId": "0e7a063e-20ae-476c-ccc2-9523c9aae878"
      },
      "source": [
        "inp = input()\n",
        "inpl = inp.split(\"s\")"
      ],
      "execution_count": 25,
      "outputs": [
        {
          "name": "stdout",
          "output_type": "stream",
          "text": [
            "alii hassan taghi akbar mohsen\n"
          ]
        }
      ]
    },
    {
      "cell_type": "code",
      "metadata": {
        "colab": {
          "base_uri": "https://localhost:8080/"
        },
        "id": "Uz2svp4hTo4o",
        "outputId": "315152c0-6b51-4985-f385-b698c02f65ee"
      },
      "source": [
        "inpl"
      ],
      "execution_count": 26,
      "outputs": [
        {
          "output_type": "execute_result",
          "data": {
            "text/plain": [
              "['alii ha', '', 'an taghi akbar moh', 'en']"
            ]
          },
          "metadata": {},
          "execution_count": 26
        }
      ]
    },
    {
      "cell_type": "code",
      "metadata": {
        "colab": {
          "base_uri": "https://localhost:8080/"
        },
        "id": "YorhvIqjTtER",
        "outputId": "32088162-e24d-4430-c2b8-6a86fa781dc5"
      },
      "source": [
        "type(inp)"
      ],
      "execution_count": 24,
      "outputs": [
        {
          "output_type": "execute_result",
          "data": {
            "text/plain": [
              "str"
            ]
          },
          "metadata": {},
          "execution_count": 24
        }
      ]
    },
    {
      "cell_type": "code",
      "metadata": {
        "id": "CF6qfMpaTxIc"
      },
      "source": [
        ""
      ],
      "execution_count": null,
      "outputs": []
    }
  ]
}