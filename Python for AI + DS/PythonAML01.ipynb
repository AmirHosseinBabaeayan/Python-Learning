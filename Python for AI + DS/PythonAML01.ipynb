{
  "nbformat": 4,
  "nbformat_minor": 0,
  "metadata": {
    "colab": {
      "provenance": []
    },
    "kernelspec": {
      "name": "python3",
      "display_name": "Python 3"
    },
    "language_info": {
      "name": "python"
    }
  },
  "cells": [
    {
      "cell_type": "code",
      "execution_count": 1,
      "metadata": {
        "colab": {
          "base_uri": "https://localhost:8080/"
        },
        "id": "e_Hza-ryGe--",
        "outputId": "58959367-5ef9-46ab-b5f0-4038355c543a"
      },
      "outputs": [
        {
          "output_type": "stream",
          "name": "stdout",
          "text": [
            "sample_data\n"
          ]
        }
      ],
      "source": [
        "! ls"
      ]
    },
    {
      "cell_type": "code",
      "source": [
        "print(\"Python for AML\")"
      ],
      "metadata": {
        "colab": {
          "base_uri": "https://localhost:8080/"
        },
        "id": "8-xNayP9MVcw",
        "outputId": "11884f9e-a55d-4daf-88ad-c08cf9bb4b27"
      },
      "execution_count": 6,
      "outputs": [
        {
          "output_type": "stream",
          "name": "stdout",
          "text": [
            "Python for AML\n"
          ]
        }
      ]
    },
    {
      "cell_type": "code",
      "source": [
        "number1 = 20"
      ],
      "metadata": {
        "id": "gPtSBOTOMggt"
      },
      "execution_count": 13,
      "outputs": []
    },
    {
      "cell_type": "code",
      "source": [
        "number1"
      ],
      "metadata": {
        "colab": {
          "base_uri": "https://localhost:8080/"
        },
        "id": "jxVqSQ9dNAPw",
        "outputId": "711b426d-b6a1-4eb1-96cc-1ecf068baa08"
      },
      "execution_count": 15,
      "outputs": [
        {
          "output_type": "execute_result",
          "data": {
            "text/plain": [
              "20"
            ]
          },
          "metadata": {},
          "execution_count": 15
        }
      ]
    },
    {
      "cell_type": "code",
      "source": [
        "number2 = 20.02"
      ],
      "metadata": {
        "id": "gk8srcdANBV2"
      },
      "execution_count": 14,
      "outputs": []
    },
    {
      "cell_type": "code",
      "source": [
        "number2"
      ],
      "metadata": {
        "colab": {
          "base_uri": "https://localhost:8080/"
        },
        "id": "gbTEAcmmNKuo",
        "outputId": "2ee0f653-c478-4a1c-dba8-235a9a935486"
      },
      "execution_count": 16,
      "outputs": [
        {
          "output_type": "execute_result",
          "data": {
            "text/plain": [
              "20.02"
            ]
          },
          "metadata": {},
          "execution_count": 16
        }
      ]
    },
    {
      "cell_type": "code",
      "source": [
        "n = (1+3j) #complex number"
      ],
      "metadata": {
        "id": "m1HrsoWVNLn8"
      },
      "execution_count": 12,
      "outputs": []
    },
    {
      "cell_type": "code",
      "source": [
        "n"
      ],
      "metadata": {
        "colab": {
          "base_uri": "https://localhost:8080/"
        },
        "id": "qLj8_4qMNQTX",
        "outputId": "80be7222-e23c-4871-f0d7-32bb3b885730"
      },
      "execution_count": 17,
      "outputs": [
        {
          "output_type": "execute_result",
          "data": {
            "text/plain": [
              "(1+3j)"
            ]
          },
          "metadata": {},
          "execution_count": 17
        }
      ]
    },
    {
      "cell_type": "code",
      "source": [
        "# string\n",
        "name = \"amirhossein\""
      ],
      "metadata": {
        "id": "MNJTrFTaNi_O"
      },
      "execution_count": 18,
      "outputs": []
    },
    {
      "cell_type": "code",
      "source": [
        "name"
      ],
      "metadata": {
        "colab": {
          "base_uri": "https://localhost:8080/",
          "height": 35
        },
        "id": "V1n_qSS2N7bz",
        "outputId": "3cead1ff-3703-46cc-f39b-9037ab19b57e"
      },
      "execution_count": 19,
      "outputs": [
        {
          "output_type": "execute_result",
          "data": {
            "text/plain": [
              "'amirhossein'"
            ],
            "application/vnd.google.colaboratory.intrinsic+json": {
              "type": "string"
            }
          },
          "metadata": {},
          "execution_count": 19
        }
      ]
    },
    {
      "cell_type": "code",
      "source": [
        "type(number1)"
      ],
      "metadata": {
        "colab": {
          "base_uri": "https://localhost:8080/"
        },
        "id": "9cQ4QYQeN8Bw",
        "outputId": "6febaef0-bb01-43fa-95d0-a2bf5c00caa9"
      },
      "execution_count": 20,
      "outputs": [
        {
          "output_type": "execute_result",
          "data": {
            "text/plain": [
              "int"
            ]
          },
          "metadata": {},
          "execution_count": 20
        }
      ]
    },
    {
      "cell_type": "code",
      "source": [
        "type(number2)"
      ],
      "metadata": {
        "colab": {
          "base_uri": "https://localhost:8080/"
        },
        "id": "vqKincclOBuk",
        "outputId": "8f3c5fbc-1604-4fc4-be02-c4839577d98a"
      },
      "execution_count": 21,
      "outputs": [
        {
          "output_type": "execute_result",
          "data": {
            "text/plain": [
              "float"
            ]
          },
          "metadata": {},
          "execution_count": 21
        }
      ]
    },
    {
      "cell_type": "code",
      "source": [
        "type(n)"
      ],
      "metadata": {
        "colab": {
          "base_uri": "https://localhost:8080/"
        },
        "id": "d7tK8_nWOFR2",
        "outputId": "1a12f1f7-d42e-4daf-d698-613f894cd17c"
      },
      "execution_count": 22,
      "outputs": [
        {
          "output_type": "execute_result",
          "data": {
            "text/plain": [
              "complex"
            ]
          },
          "metadata": {},
          "execution_count": 22
        }
      ]
    },
    {
      "cell_type": "code",
      "source": [
        "type(name)"
      ],
      "metadata": {
        "colab": {
          "base_uri": "https://localhost:8080/"
        },
        "id": "BtMpT_NhOICL",
        "outputId": "d848d9ae-ad8f-44c3-d381-72e0b8ce48ef"
      },
      "execution_count": 23,
      "outputs": [
        {
          "output_type": "execute_result",
          "data": {
            "text/plain": [
              "str"
            ]
          },
          "metadata": {},
          "execution_count": 23
        }
      ]
    },
    {
      "cell_type": "code",
      "source": [
        "number1 = \"python\""
      ],
      "metadata": {
        "id": "Sf1x5ls4OKYN"
      },
      "execution_count": 24,
      "outputs": []
    },
    {
      "cell_type": "code",
      "source": [
        "type(number1)"
      ],
      "metadata": {
        "colab": {
          "base_uri": "https://localhost:8080/"
        },
        "id": "fofWpOvWORSr",
        "outputId": "9745ed51-3354-4369-fdbc-b40c3a09f962"
      },
      "execution_count": 25,
      "outputs": [
        {
          "output_type": "execute_result",
          "data": {
            "text/plain": [
              "str"
            ]
          },
          "metadata": {},
          "execution_count": 25
        }
      ]
    },
    {
      "cell_type": "code",
      "source": [
        "# a-z A-Z 0-9 _\n",
        "_name = \"amir\""
      ],
      "metadata": {
        "id": "hF97W3DnOS4Q"
      },
      "execution_count": 26,
      "outputs": []
    },
    {
      "cell_type": "code",
      "source": [
        "_name"
      ],
      "metadata": {
        "colab": {
          "base_uri": "https://localhost:8080/",
          "height": 35
        },
        "id": "Ww-OCg6XOwRI",
        "outputId": "e2351a72-7e0d-4048-9de8-d181deec12ca"
      },
      "execution_count": 27,
      "outputs": [
        {
          "output_type": "execute_result",
          "data": {
            "text/plain": [
              "'amir'"
            ],
            "application/vnd.google.colaboratory.intrinsic+json": {
              "type": "string"
            }
          },
          "metadata": {},
          "execution_count": 27
        }
      ]
    },
    {
      "cell_type": "code",
      "source": [
        "a = 20\n",
        "b = 30\n",
        "\n",
        "temp = a \n",
        "a = b\n",
        "b = temp\n",
        "print(a,b) "
      ],
      "metadata": {
        "colab": {
          "base_uri": "https://localhost:8080/"
        },
        "id": "sOefniZOOyyD",
        "outputId": "11cf1a26-efb1-41db-d68c-911c71e3dc25"
      },
      "execution_count": 30,
      "outputs": [
        {
          "output_type": "stream",
          "name": "stdout",
          "text": [
            "30 20\n"
          ]
        }
      ]
    },
    {
      "cell_type": "code",
      "source": [
        "x = 200\n",
        "y = -100\n",
        "z = 150\n",
        "x, y, z = y, x, 25\n",
        "print(x,y,z)"
      ],
      "metadata": {
        "colab": {
          "base_uri": "https://localhost:8080/"
        },
        "id": "JFUAhv1zPHzy",
        "outputId": "4cfa4811-9940-4db5-95a0-4a989ea4936a"
      },
      "execution_count": 32,
      "outputs": [
        {
          "output_type": "stream",
          "name": "stdout",
          "text": [
            "-100 200 25\n"
          ]
        }
      ]
    },
    {
      "cell_type": "code",
      "source": [
        "#print \n",
        "\n",
        "print(\"python for aml\")"
      ],
      "metadata": {
        "colab": {
          "base_uri": "https://localhost:8080/"
        },
        "id": "lyt1w91TPT6r",
        "outputId": "1512d4fa-1cc4-453b-f7a6-adb5c15ff719"
      },
      "execution_count": 33,
      "outputs": [
        {
          "output_type": "stream",
          "name": "stdout",
          "text": [
            "python for aml\n"
          ]
        }
      ]
    },
    {
      "cell_type": "code",
      "source": [
        "print(\"x: \", x)"
      ],
      "metadata": {
        "colab": {
          "base_uri": "https://localhost:8080/"
        },
        "id": "bn1LMM0-Px64",
        "outputId": "449c9f4b-cb88-45e7-b3bd-386d240c0021"
      },
      "execution_count": 35,
      "outputs": [
        {
          "output_type": "stream",
          "name": "stdout",
          "text": [
            "x:  -100\n"
          ]
        }
      ]
    },
    {
      "cell_type": "code",
      "source": [
        "# https://pyformat.info/\n",
        "print(\"x: {}, y: {}, z: {}\".format(x, y, z))"
      ],
      "metadata": {
        "colab": {
          "base_uri": "https://localhost:8080/"
        },
        "id": "GBgw4zugP4mZ",
        "outputId": "8412c7f5-8ba1-4635-e0eb-375881f4defc"
      },
      "execution_count": 37,
      "outputs": [
        {
          "output_type": "stream",
          "name": "stdout",
          "text": [
            "x: -100, y: 200, z: 25\n"
          ]
        }
      ]
    },
    {
      "cell_type": "code",
      "source": [
        "str1 = \"amir\"\n",
        "str2 = \"hossein\""
      ],
      "metadata": {
        "id": "wm3vEbe1QdsB"
      },
      "execution_count": 38,
      "outputs": []
    },
    {
      "cell_type": "code",
      "source": [
        "str1 + str2"
      ],
      "metadata": {
        "colab": {
          "base_uri": "https://localhost:8080/",
          "height": 35
        },
        "id": "On8xosNXQ1z6",
        "outputId": "af8e2dcd-e46b-48cd-a880-1e6e114be482"
      },
      "execution_count": 39,
      "outputs": [
        {
          "output_type": "execute_result",
          "data": {
            "text/plain": [
              "'amirhossein'"
            ],
            "application/vnd.google.colaboratory.intrinsic+json": {
              "type": "string"
            }
          },
          "metadata": {},
          "execution_count": 39
        }
      ]
    },
    {
      "cell_type": "code",
      "source": [
        "str1 * 10"
      ],
      "metadata": {
        "colab": {
          "base_uri": "https://localhost:8080/",
          "height": 35
        },
        "id": "8stfkwUxQ38D",
        "outputId": "fd7cd129-4d71-42a4-8016-34a72450e196"
      },
      "execution_count": 40,
      "outputs": [
        {
          "output_type": "execute_result",
          "data": {
            "text/plain": [
              "'amiramiramiramiramiramiramiramiramiramir'"
            ],
            "application/vnd.google.colaboratory.intrinsic+json": {
              "type": "string"
            }
          },
          "metadata": {},
          "execution_count": 40
        }
      ]
    },
    {
      "cell_type": "code",
      "source": [
        "15 * str2"
      ],
      "metadata": {
        "colab": {
          "base_uri": "https://localhost:8080/",
          "height": 53
        },
        "id": "sFaDby0iQ7Y8",
        "outputId": "7d9803e9-d22a-43ca-d2aa-93342934c34b"
      },
      "execution_count": 42,
      "outputs": [
        {
          "output_type": "execute_result",
          "data": {
            "text/plain": [
              "'hosseinhosseinhosseinhosseinhosseinhosseinhosseinhosseinhosseinhosseinhosseinhosseinhosseinhosseinhossein'"
            ],
            "application/vnd.google.colaboratory.intrinsic+json": {
              "type": "string"
            }
          },
          "metadata": {},
          "execution_count": 42
        }
      ]
    },
    {
      "cell_type": "code",
      "source": [
        "# > >= < <= != ==\n",
        "3 > 5"
      ],
      "metadata": {
        "colab": {
          "base_uri": "https://localhost:8080/"
        },
        "id": "uotXoDFtQ_G4",
        "outputId": "0444e33a-f6ff-45ac-90ae-c6c0cd9b11d2"
      },
      "execution_count": 43,
      "outputs": [
        {
          "output_type": "execute_result",
          "data": {
            "text/plain": [
              "False"
            ]
          },
          "metadata": {},
          "execution_count": 43
        }
      ]
    },
    {
      "cell_type": "code",
      "source": [
        "6 < 100"
      ],
      "metadata": {
        "colab": {
          "base_uri": "https://localhost:8080/"
        },
        "id": "VBnxWgJvRoWu",
        "outputId": "f488c1f6-2de4-4eba-f0da-abe3b2869e39"
      },
      "execution_count": 44,
      "outputs": [
        {
          "output_type": "execute_result",
          "data": {
            "text/plain": [
              "True"
            ]
          },
          "metadata": {},
          "execution_count": 44
        }
      ]
    },
    {
      "cell_type": "code",
      "source": [
        "5 == 5"
      ],
      "metadata": {
        "colab": {
          "base_uri": "https://localhost:8080/"
        },
        "id": "TYzAOPtmRqZM",
        "outputId": "b4fe301a-0c58-4edd-a611-fd1b0b4157fe"
      },
      "execution_count": 45,
      "outputs": [
        {
          "output_type": "execute_result",
          "data": {
            "text/plain": [
              "True"
            ]
          },
          "metadata": {},
          "execution_count": 45
        }
      ]
    },
    {
      "cell_type": "code",
      "source": [
        "-100 == x"
      ],
      "metadata": {
        "colab": {
          "base_uri": "https://localhost:8080/"
        },
        "id": "9gBA2TlcRrd5",
        "outputId": "7c9eed69-f296-40cc-b3f4-eb997f78f092"
      },
      "execution_count": 46,
      "outputs": [
        {
          "output_type": "execute_result",
          "data": {
            "text/plain": [
              "True"
            ]
          },
          "metadata": {},
          "execution_count": 46
        }
      ]
    },
    {
      "cell_type": "code",
      "source": [
        "-100 == y"
      ],
      "metadata": {
        "colab": {
          "base_uri": "https://localhost:8080/"
        },
        "id": "pfYfWLDSSLCT",
        "outputId": "29bf5f04-8ffe-4a64-a5dc-0b46a910c2ef"
      },
      "execution_count": 47,
      "outputs": [
        {
          "output_type": "execute_result",
          "data": {
            "text/plain": [
              "False"
            ]
          },
          "metadata": {},
          "execution_count": 47
        }
      ]
    },
    {
      "cell_type": "code",
      "source": [
        "# and / or / not ?\n",
        "True and True"
      ],
      "metadata": {
        "colab": {
          "base_uri": "https://localhost:8080/"
        },
        "id": "GY9ar0WUSM_W",
        "outputId": "f356c5a8-7819-4886-9f3f-b3bc353ebdaf"
      },
      "execution_count": 48,
      "outputs": [
        {
          "output_type": "execute_result",
          "data": {
            "text/plain": [
              "True"
            ]
          },
          "metadata": {},
          "execution_count": 48
        }
      ]
    },
    {
      "cell_type": "code",
      "source": [
        "True and False"
      ],
      "metadata": {
        "colab": {
          "base_uri": "https://localhost:8080/"
        },
        "id": "NRBp-PccSefz",
        "outputId": "3e107ed3-daed-48b3-a1c5-58c2c2ee3622"
      },
      "execution_count": 49,
      "outputs": [
        {
          "output_type": "execute_result",
          "data": {
            "text/plain": [
              "False"
            ]
          },
          "metadata": {},
          "execution_count": 49
        }
      ]
    },
    {
      "cell_type": "code",
      "source": [
        "True or False"
      ],
      "metadata": {
        "colab": {
          "base_uri": "https://localhost:8080/"
        },
        "id": "ed0_WKnHSgmL",
        "outputId": "b816f6c9-bfda-49d1-d9ff-acb1e99e1476"
      },
      "execution_count": 50,
      "outputs": [
        {
          "output_type": "execute_result",
          "data": {
            "text/plain": [
              "True"
            ]
          },
          "metadata": {},
          "execution_count": 50
        }
      ]
    },
    {
      "cell_type": "code",
      "source": [
        "p = (-100 == y) and (-100 == x)\n",
        "p"
      ],
      "metadata": {
        "colab": {
          "base_uri": "https://localhost:8080/"
        },
        "id": "1fq0-R4ySjAG",
        "outputId": "5f7a440a-536e-476b-d3af-6309f83d1335"
      },
      "execution_count": 53,
      "outputs": [
        {
          "output_type": "execute_result",
          "data": {
            "text/plain": [
              "False"
            ]
          },
          "metadata": {},
          "execution_count": 53
        }
      ]
    },
    {
      "cell_type": "code",
      "source": [
        "not(p)"
      ],
      "metadata": {
        "colab": {
          "base_uri": "https://localhost:8080/"
        },
        "id": "eJ32AiavSrWI",
        "outputId": "61518075-4f27-4c29-c5e1-1fcbb7e68921"
      },
      "execution_count": 54,
      "outputs": [
        {
          "output_type": "execute_result",
          "data": {
            "text/plain": [
              "True"
            ]
          },
          "metadata": {},
          "execution_count": 54
        }
      ]
    },
    {
      "cell_type": "code",
      "source": [
        "a = 20\n",
        "print(a)"
      ],
      "metadata": {
        "colab": {
          "base_uri": "https://localhost:8080/"
        },
        "id": "SsB-5gApSz63",
        "outputId": "0e7b954b-d0b3-4966-8490-34966665870d"
      },
      "execution_count": 55,
      "outputs": [
        {
          "output_type": "stream",
          "name": "stdout",
          "text": [
            "20\n"
          ]
        }
      ]
    },
    {
      "cell_type": "code",
      "source": [
        "#input\n",
        "\n",
        "f = float(input())\n",
        "print(type(f))\n",
        "print(f*10)"
      ],
      "metadata": {
        "colab": {
          "base_uri": "https://localhost:8080/"
        },
        "id": "wwG6lWUIS-Nf",
        "outputId": "4e59bb0f-1bd4-42eb-cddf-63e376575b34"
      },
      "execution_count": 61,
      "outputs": [
        {
          "output_type": "stream",
          "name": "stdout",
          "text": [
            "3.14\n",
            "<class 'float'>\n",
            "31.400000000000002\n"
          ]
        }
      ]
    },
    {
      "cell_type": "code",
      "source": [
        "xnumber = 200\n",
        "xstr = str(xnumber)\n",
        "type(xstr)"
      ],
      "metadata": {
        "colab": {
          "base_uri": "https://localhost:8080/"
        },
        "id": "HPpeTZgnTGRr",
        "outputId": "ec6128d3-eb6e-4a18-e7b4-fcb0a50f4d98"
      },
      "execution_count": 62,
      "outputs": [
        {
          "output_type": "execute_result",
          "data": {
            "text/plain": [
              "str"
            ]
          },
          "metadata": {},
          "execution_count": 62
        }
      ]
    },
    {
      "cell_type": "code",
      "source": [
        "xnumber = 200\n",
        "xnumber = str(xnumber)\n",
        "type(xnumber)"
      ],
      "metadata": {
        "colab": {
          "base_uri": "https://localhost:8080/"
        },
        "id": "e53pLt6KT9y5",
        "outputId": "7d222da9-fc01-44e0-9379-a0a0021d69f0"
      },
      "execution_count": 63,
      "outputs": [
        {
          "output_type": "execute_result",
          "data": {
            "text/plain": [
              "str"
            ]
          },
          "metadata": {},
          "execution_count": 63
        }
      ]
    },
    {
      "cell_type": "code",
      "source": [
        "yy = 32\n",
        "print(yy)\n",
        "print(type(yy))\n",
        "yy = float(yy)\n",
        "print(yy)\n",
        "print(type(yy))"
      ],
      "metadata": {
        "colab": {
          "base_uri": "https://localhost:8080/"
        },
        "id": "24DPbcu-UFfH",
        "outputId": "e97f810f-cc9d-4772-ce85-fcc4d798f064"
      },
      "execution_count": 65,
      "outputs": [
        {
          "output_type": "stream",
          "name": "stdout",
          "text": [
            "32\n",
            "<class 'int'>\n",
            "32.0\n",
            "<class 'float'>\n"
          ]
        }
      ]
    },
    {
      "cell_type": "code",
      "source": [
        "qqq = 25 - 4j\n",
        "print(2*qqq)"
      ],
      "metadata": {
        "colab": {
          "base_uri": "https://localhost:8080/"
        },
        "id": "NsdugRreUame",
        "outputId": "d3606952-9b52-4696-dd08-a290a3f33590"
      },
      "execution_count": 66,
      "outputs": [
        {
          "output_type": "stream",
          "name": "stdout",
          "text": [
            "(50-8j)\n"
          ]
        }
      ]
    },
    {
      "cell_type": "code",
      "source": [
        "print(qqq*qqq)"
      ],
      "metadata": {
        "colab": {
          "base_uri": "https://localhost:8080/"
        },
        "id": "5rcKr9-JUkPn",
        "outputId": "4c41cea9-ee16-4200-dc8b-afcb93e4f929"
      },
      "execution_count": 67,
      "outputs": [
        {
          "output_type": "stream",
          "name": "stdout",
          "text": [
            "(609-200j)\n"
          ]
        }
      ]
    },
    {
      "cell_type": "code",
      "source": [
        "print(\"Enter a number : \", end=\"\\n\")\n",
        "number = int(input())"
      ],
      "metadata": {
        "colab": {
          "base_uri": "https://localhost:8080/"
        },
        "id": "TGLHckIdUmZJ",
        "outputId": "84abcb59-31ac-43db-9c0b-6d8c4bb22744"
      },
      "execution_count": 71,
      "outputs": [
        {
          "name": "stdout",
          "output_type": "stream",
          "text": [
            "Enter a number : \n",
            "25\n"
          ]
        }
      ]
    },
    {
      "cell_type": "code",
      "source": [
        "number = int(input(\"Enter a number : \"))"
      ],
      "metadata": {
        "colab": {
          "base_uri": "https://localhost:8080/"
        },
        "id": "WKY8YIFsU4oV",
        "outputId": "d7aa5fe7-e158-45a2-ec6e-b0da430bf664"
      },
      "execution_count": 69,
      "outputs": [
        {
          "name": "stdout",
          "output_type": "stream",
          "text": [
            "Enter a number : 26\n"
          ]
        }
      ]
    },
    {
      "cell_type": "code",
      "source": [
        "# if - else - elif\n",
        "x = False\n",
        "if (x):\n",
        "  print(\"5555\")\n",
        "\n",
        "if(not(x)):\n",
        "  print(\"2222\")"
      ],
      "metadata": {
        "colab": {
          "base_uri": "https://localhost:8080/"
        },
        "id": "fxBWFdBNU9Im",
        "outputId": "48c030de-4603-4abb-9047-dc4de2de10c2"
      },
      "execution_count": 76,
      "outputs": [
        {
          "output_type": "stream",
          "name": "stdout",
          "text": [
            "2222\n"
          ]
        }
      ]
    },
    {
      "cell_type": "code",
      "source": [
        "x = False\n",
        "\n",
        "if (x):\n",
        "  print(\"5555\")\n",
        "\n",
        "else:\n",
        "  print(\"2222\")"
      ],
      "metadata": {
        "colab": {
          "base_uri": "https://localhost:8080/"
        },
        "id": "GdIFKU8mWAZ7",
        "outputId": "6393c47f-621b-475e-e902-856800f90960"
      },
      "execution_count": 78,
      "outputs": [
        {
          "output_type": "stream",
          "name": "stdout",
          "text": [
            "2222\n"
          ]
        }
      ]
    },
    {
      "cell_type": "code",
      "source": [
        "num = int(input(\"Enter a number : \"))\n",
        "if (num >= 0):\n",
        "  print(\"+++++++\")\n",
        "else:\n",
        "  print(\"-------\")"
      ],
      "metadata": {
        "colab": {
          "base_uri": "https://localhost:8080/"
        },
        "id": "a4AEkpTFWSSO",
        "outputId": "bfe5b1c4-cf03-4bb1-9bb1-59004e56ccdc"
      },
      "execution_count": 82,
      "outputs": [
        {
          "output_type": "stream",
          "name": "stdout",
          "text": [
            "Enter a number : 96\n",
            "+++++++\n"
          ]
        }
      ]
    },
    {
      "cell_type": "code",
      "source": [
        "num = int(input(\"Enter a number : \"))\n",
        "if (num >= 0):\n",
        "  if(num == 0):\n",
        "    print(\"0000000\")\n",
        "  else:\n",
        "    print(\"+++++++\")\n",
        "else:\n",
        "  print(\"-------\")"
      ],
      "metadata": {
        "colab": {
          "base_uri": "https://localhost:8080/"
        },
        "id": "AVdtdpkIWqGs",
        "outputId": "04c6c331-8c8b-496e-e5cf-a270747ca9f0"
      },
      "execution_count": 86,
      "outputs": [
        {
          "output_type": "stream",
          "name": "stdout",
          "text": [
            "Enter a number : 0\n",
            "0000000\n"
          ]
        }
      ]
    },
    {
      "cell_type": "code",
      "source": [
        "num = int(input(\"Enter a number : \"))\n",
        "if (num > 0):\n",
        "  print(\"+++++++\")\n",
        "elif (num == 0):\n",
        "  print(\"0000000\")\n",
        "else:\n",
        "  print(\"-------\")"
      ],
      "metadata": {
        "colab": {
          "base_uri": "https://localhost:8080/"
        },
        "id": "azCt3jEyW982",
        "outputId": "4adbe601-b5f6-432b-d1f8-d8049f9dc766"
      },
      "execution_count": 90,
      "outputs": [
        {
          "output_type": "stream",
          "name": "stdout",
          "text": [
            "Enter a number : -96\n",
            "-------\n"
          ]
        }
      ]
    },
    {
      "cell_type": "code",
      "source": [
        "g = int(input(\"number : \"))\n",
        "# g % 2 ==> 0 : zoj / g % 2 ==> 1 : fard\n",
        "if (g%2 == 0):\n",
        "  print(\"Zooooj\")\n",
        "  #print(\"22222\")\n",
        "else:\n",
        "  print(\"Fard\")"
      ],
      "metadata": {
        "colab": {
          "base_uri": "https://localhost:8080/"
        },
        "id": "iS5CVB3rXMSO",
        "outputId": "bb92b6ab-215a-4b07-b6ec-55e966dbda53"
      },
      "execution_count": 96,
      "outputs": [
        {
          "output_type": "stream",
          "name": "stdout",
          "text": [
            "number : 36\n",
            "Zooooj\n"
          ]
        }
      ]
    },
    {
      "cell_type": "code",
      "source": [
        "# float , avg a , b , khoda behet rahm kone\n",
        "havij = float(input(\"Enter your average: \"))\n",
        "if havij >= 17:\n",
        "  print(\"AAAAAA\")\n",
        "elif (havij >=12):\n",
        "  print(\"BBBBBB\")\n",
        "else:\n",
        "  print(\"Khoda rahm kkone behet\")\n"
      ],
      "metadata": {
        "colab": {
          "base_uri": "https://localhost:8080/"
        },
        "id": "PdqrW-hHXuML",
        "outputId": "275e7199-713f-4070-af29-a5b934d548e0"
      },
      "execution_count": 102,
      "outputs": [
        {
          "output_type": "stream",
          "name": "stdout",
          "text": [
            "Enter your average: 12\n",
            "BBBBBB\n"
          ]
        }
      ]
    },
    {
      "cell_type": "code",
      "source": [
        "# Loop \n",
        "print(\"AUT\")\n",
        "print(\"AUT\")\n",
        "print(\"AUT\")\n",
        "print(\"AUT\")\n",
        "print(\"AUT\")\n",
        "print(\"AUT\")\n",
        "print(\"AUT\")\n",
        "print(\"AUT\")\n",
        "print(\"AUT\")\n",
        "print(\"AUT\")"
      ],
      "metadata": {
        "colab": {
          "base_uri": "https://localhost:8080/"
        },
        "id": "ktu_ZtA4azUs",
        "outputId": "9afb02aa-f8cd-4a17-de21-8b66d5a603fe"
      },
      "execution_count": 103,
      "outputs": [
        {
          "output_type": "stream",
          "name": "stdout",
          "text": [
            "AUT\n",
            "AUT\n",
            "AUT\n",
            "AUT\n",
            "AUT\n",
            "AUT\n",
            "AUT\n",
            "AUT\n",
            "AUT\n",
            "AUT\n"
          ]
        }
      ]
    },
    {
      "cell_type": "code",
      "source": [
        "number = 1\n",
        "while (number <=10):\n",
        "  #print(number, \" AUT\")\n",
        "  print(\"{}. AUT\".format(number))\n",
        "  number = number + 1 \n"
      ],
      "metadata": {
        "colab": {
          "base_uri": "https://localhost:8080/"
        },
        "id": "ektQYQSbbWaK",
        "outputId": "4766d7d4-8ff5-4060-f17c-86ef5d604047"
      },
      "execution_count": 5,
      "outputs": [
        {
          "output_type": "stream",
          "name": "stdout",
          "text": [
            "1. AUT\n",
            "2. AUT\n",
            "3. AUT\n",
            "4. AUT\n",
            "5. AUT\n",
            "6. AUT\n",
            "7. AUT\n",
            "8. AUT\n",
            "9. AUT\n",
            "10. AUT\n"
          ]
        }
      ]
    },
    {
      "cell_type": "code",
      "source": [
        "a = int(input(\"a : \"))\n",
        "b = int(input(\"b : \"))\n",
        "if a>b:\n",
        "  a, b = b, a\n",
        "while(a<=b):\n",
        "  print(a)\n",
        "  a = a + 1 # a += 1\n",
        "\n"
      ],
      "metadata": {
        "colab": {
          "base_uri": "https://localhost:8080/"
        },
        "id": "vsW-J-y1bvBs",
        "outputId": "5505bad5-38ae-49fa-cc80-f6d4aaf5c636"
      },
      "execution_count": 8,
      "outputs": [
        {
          "output_type": "stream",
          "name": "stdout",
          "text": [
            "a : 9\n",
            "b : 2\n",
            "2\n",
            "3\n",
            "4\n",
            "5\n",
            "6\n",
            "7\n",
            "8\n",
            "9\n"
          ]
        }
      ]
    },
    {
      "cell_type": "code",
      "source": [
        "a = int(input(\"a : \"))\n",
        "b = int(input(\"b : \"))\n",
        "if a>b:\n",
        "  a, b = b, a\n",
        "\n",
        "if a % 2 == 0: # 0 ==> 1 : zooj \n",
        "  a = a+1\n",
        "\n",
        "while(a<= b):\n",
        "  print(a)\n",
        "  a += 2 "
      ],
      "metadata": {
        "colab": {
          "base_uri": "https://localhost:8080/"
        },
        "id": "9PI_2d3kdSgw",
        "outputId": "6eeb7c67-a0fa-4ebe-f332-3ce282a9831b"
      },
      "execution_count": 12,
      "outputs": [
        {
          "output_type": "stream",
          "name": "stdout",
          "text": [
            "a : 2\n",
            "b : 9\n",
            "3\n",
            "5\n",
            "7\n",
            "9\n"
          ]
        }
      ]
    },
    {
      "cell_type": "code",
      "source": [
        "# f(x,y) = x^2 + y^2 + 1\n",
        "def fxy(x, y):\n",
        "  if x>y:\n",
        "    return 1\n",
        "  else:\n",
        "    return (x**2)+(y**2)+1"
      ],
      "metadata": {
        "id": "gQH0DjrQdqxE"
      },
      "execution_count": 17,
      "outputs": []
    },
    {
      "cell_type": "code",
      "source": [
        "fxy(2,3)"
      ],
      "metadata": {
        "colab": {
          "base_uri": "https://localhost:8080/"
        },
        "id": "WHoEauebegMY",
        "outputId": "010df647-d98b-41e5-9441-3d5bddee66a9"
      },
      "execution_count": 18,
      "outputs": [
        {
          "output_type": "execute_result",
          "data": {
            "text/plain": [
              "14"
            ]
          },
          "metadata": {},
          "execution_count": 18
        }
      ]
    },
    {
      "cell_type": "code",
      "source": [
        "bbbbbbb = fxy(3,2)"
      ],
      "metadata": {
        "id": "LZTXUC9Rej2e"
      },
      "execution_count": 19,
      "outputs": []
    },
    {
      "cell_type": "code",
      "source": [
        "bbbbbbb"
      ],
      "metadata": {
        "colab": {
          "base_uri": "https://localhost:8080/"
        },
        "id": "s6MOt6omem73",
        "outputId": "97c89312-3c69-4c30-9d58-fa048c7e6021"
      },
      "execution_count": 20,
      "outputs": [
        {
          "output_type": "execute_result",
          "data": {
            "text/plain": [
              "1"
            ]
          },
          "metadata": {},
          "execution_count": 20
        }
      ]
    },
    {
      "cell_type": "code",
      "source": [
        "num = int(input(\"Enter a number : \"))\n",
        "if (num > 0):\n",
        "  print(\"+++++++\")\n",
        "elif (num == 0):\n",
        "  print(\"0000000\")\n",
        "else:\n",
        "  print(\"-------\")\n"
      ],
      "metadata": {
        "colab": {
          "base_uri": "https://localhost:8080/"
        },
        "id": "SmylbikQeoLc",
        "outputId": "8533543f-252f-4a73-b58d-e03bd8052ba3"
      },
      "execution_count": 21,
      "outputs": [
        {
          "output_type": "stream",
          "name": "stdout",
          "text": [
            "Enter a number : 25\n",
            "+++++++\n"
          ]
        }
      ]
    },
    {
      "cell_type": "code",
      "source": [
        "def n_p_0(nplsd):\n",
        "  if (nplsd > 0):\n",
        "    return 1\n",
        "  elif (nplsd == 0):\n",
        "    return 0\n",
        "  else:\n",
        "    return -1\n"
      ],
      "metadata": {
        "id": "koAswREbe8zv"
      },
      "execution_count": 25,
      "outputs": []
    },
    {
      "cell_type": "code",
      "source": [
        "n_p_0(25)"
      ],
      "metadata": {
        "colab": {
          "base_uri": "https://localhost:8080/"
        },
        "id": "nm483LoGfTKP",
        "outputId": "05ad68fc-3d0e-4ef7-a617-ecce108e9ced"
      },
      "execution_count": 23,
      "outputs": [
        {
          "output_type": "execute_result",
          "data": {
            "text/plain": [
              "1"
            ]
          },
          "metadata": {},
          "execution_count": 23
        }
      ]
    },
    {
      "cell_type": "code",
      "source": [
        "def n_p_0_2(nplsd):\n",
        "  if (nplsd > 0):\n",
        "    return \"PPPPPPPPP\"\n",
        "  elif (nplsd == 0):\n",
        "    return \"ZERO\"\n",
        "  else:\n",
        "    return \"NNNNNNN\""
      ],
      "metadata": {
        "id": "BB15XJwYfVTg"
      },
      "execution_count": 27,
      "outputs": []
    },
    {
      "cell_type": "code",
      "source": [
        "n_p_0_2(25)"
      ],
      "metadata": {
        "colab": {
          "base_uri": "https://localhost:8080/",
          "height": 35
        },
        "id": "2v5oATJpfdkU",
        "outputId": "1d0e13f1-a23b-4d95-f924-5a0091419310"
      },
      "execution_count": 28,
      "outputs": [
        {
          "output_type": "execute_result",
          "data": {
            "text/plain": [
              "'PPPPPPPPP'"
            ],
            "application/vnd.google.colaboratory.intrinsic+json": {
              "type": "string"
            }
          },
          "metadata": {},
          "execution_count": 28
        }
      ]
    },
    {
      "cell_type": "code",
      "source": [
        "def printAML(p1, p2, t):\n",
        "  if t == '+':\n",
        "    print(\"{} + {} = {}\".format(p1, p2, p1+p2))\n",
        "  elif t == \"-\":\n",
        "    print(\"{} - {} = {}\".format(p1, p2, p1-p2))\n",
        "  else:\n",
        "    print(\"Wrong type...\")\n"
      ],
      "metadata": {
        "id": "V2nlZJhOfkaW"
      },
      "execution_count": 29,
      "outputs": []
    },
    {
      "cell_type": "code",
      "source": [
        "printAML(2, 25, '+')"
      ],
      "metadata": {
        "colab": {
          "base_uri": "https://localhost:8080/"
        },
        "id": "ot0HiwlKgOjC",
        "outputId": "73e6ad2b-26bb-4631-8675-cc249448658e"
      },
      "execution_count": 30,
      "outputs": [
        {
          "output_type": "stream",
          "name": "stdout",
          "text": [
            "2 + 25 = 27\n"
          ]
        }
      ]
    },
    {
      "cell_type": "code",
      "source": [
        "a = 96\n",
        "b = 102\n",
        "x = '-'\n",
        "printAML(a, b, x)"
      ],
      "metadata": {
        "colab": {
          "base_uri": "https://localhost:8080/"
        },
        "id": "AqpfNNongTJV",
        "outputId": "b7b10c74-6572-4f4c-b049-7239eeb34935"
      },
      "execution_count": 31,
      "outputs": [
        {
          "output_type": "stream",
          "name": "stdout",
          "text": [
            "96 - 102 = -6\n"
          ]
        }
      ]
    },
    {
      "cell_type": "code",
      "source": [
        "a = 80\n",
        "b = 60\n",
        "TYPE = '-'\n",
        "printAML(t=TYPE, p1=a, p2=b)"
      ],
      "metadata": {
        "colab": {
          "base_uri": "https://localhost:8080/"
        },
        "id": "04yX4Z_MgbXx",
        "outputId": "5a441f57-b37d-4b3e-9dc7-51abc1d73b46"
      },
      "execution_count": 32,
      "outputs": [
        {
          "output_type": "stream",
          "name": "stdout",
          "text": [
            "80 - 60 = 20\n"
          ]
        }
      ]
    },
    {
      "cell_type": "code",
      "source": [],
      "metadata": {
        "id": "N62DlBzigsuu"
      },
      "execution_count": null,
      "outputs": []
    }
  ]
}