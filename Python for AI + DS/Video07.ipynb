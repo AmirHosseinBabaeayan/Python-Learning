{
  "nbformat": 4,
  "nbformat_minor": 0,
  "metadata": {
    "colab": {
      "name": "Video07.ipynb",
      "provenance": []
    },
    "kernelspec": {
      "name": "python3",
      "display_name": "Python 3"
    },
    "language_info": {
      "name": "python"
    }
  },
  "cells": [
    {
      "cell_type": "code",
      "metadata": {
        "colab": {
          "base_uri": "https://localhost:8080/"
        },
        "id": "Mp-bnz_PZCa-",
        "outputId": "b6cbe907-ce63-45f1-cd76-a9a030b4941a"
      },
      "source": [
        "print(\"Salam Donya !!!\")"
      ],
      "execution_count": 2,
      "outputs": [
        {
          "output_type": "stream",
          "name": "stdout",
          "text": [
            "Salam Donya !!!\n"
          ]
        }
      ]
    },
    {
      "cell_type": "code",
      "metadata": {
        "colab": {
          "base_uri": "https://localhost:8080/"
        },
        "id": "4kWq8cc7a_--",
        "outputId": "57bce8f2-aed4-4eec-bc50-74255af36a0f"
      },
      "source": [
        "print(\"Salam Donya !!!\", 2+3)"
      ],
      "execution_count": 4,
      "outputs": [
        {
          "output_type": "stream",
          "name": "stdout",
          "text": [
            "Salam Donya !!! 5\n"
          ]
        }
      ]
    },
    {
      "cell_type": "code",
      "metadata": {
        "colab": {
          "base_uri": "https://localhost:8080/"
        },
        "id": "yZyhHTu4bEiT",
        "outputId": "8b1fe34b-a71a-45c7-8248-ecae00e7d92b"
      },
      "source": [
        "print(\"yek adad vared kon :\")\n",
        "_havij = input()\n",
        "print(_havij)"
      ],
      "execution_count": 6,
      "outputs": [
        {
          "output_type": "stream",
          "name": "stdout",
          "text": [
            "yek adad vared kon :\n",
            "38\n",
            "38\n"
          ]
        }
      ]
    },
    {
      "cell_type": "code",
      "metadata": {
        "colab": {
          "base_uri": "https://localhost:8080/"
        },
        "id": "FUOejARgbgeX",
        "outputId": "9e5d1f4a-e3df-428c-96aa-5d5afca94c06"
      },
      "source": [
        "_akbar2 = input(\"yek adad vared kon :\")\n",
        "print(_akbar2)"
      ],
      "execution_count": 8,
      "outputs": [
        {
          "output_type": "stream",
          "name": "stdout",
          "text": [
            "yek adad vared kon :8502\n",
            "8502\n"
          ]
        }
      ]
    },
    {
      "cell_type": "code",
      "metadata": {
        "colab": {
          "base_uri": "https://localhost:8080/"
        },
        "id": "MJJvzV1HbyCb",
        "outputId": "f4d0c6c2-3e64-42e4-8901-72c2d9b66dc6"
      },
      "source": [
        "x = input(\"ye chizi vared kon : \")\n",
        "print(type(x))"
      ],
      "execution_count": 11,
      "outputs": [
        {
          "output_type": "stream",
          "name": "stdout",
          "text": [
            "ye chizi vared kon : 3.1415\n",
            "<class 'str'>\n"
          ]
        }
      ]
    },
    {
      "cell_type": "code",
      "metadata": {
        "colab": {
          "base_uri": "https://localhost:8080/"
        },
        "id": "z3VS6-lPcCQ6",
        "outputId": "26cce096-0c14-41a4-f077-a6a478388035"
      },
      "source": [
        "y = input(\"yek adad vared kon : \")\n",
        "print(2*y)"
      ],
      "execution_count": 12,
      "outputs": [
        {
          "output_type": "stream",
          "name": "stdout",
          "text": [
            "yek adad vared kon : 25\n",
            "2525\n"
          ]
        }
      ]
    },
    {
      "cell_type": "code",
      "metadata": {
        "colab": {
          "base_uri": "https://localhost:8080/"
        },
        "id": "H99tx7avcRa0",
        "outputId": "3ab3d102-c73d-4af6-d8b1-82a13b10b94e"
      },
      "source": [
        "y = input(\"yek adad vared kon : \")\n",
        "print('2'+y)"
      ],
      "execution_count": 14,
      "outputs": [
        {
          "output_type": "stream",
          "name": "stdout",
          "text": [
            "yek adad vared kon : 25\n",
            "225\n"
          ]
        }
      ]
    },
    {
      "cell_type": "code",
      "metadata": {
        "colab": {
          "base_uri": "https://localhost:8080/"
        },
        "id": "km7WyP4ecVrA",
        "outputId": "b638cec7-4e4d-4032-f5f2-441ae013a9a5"
      },
      "source": [
        "z = input(\"yek adad vared kon : \")\n",
        "z = int(z)\n",
        "print(z+10)\n"
      ],
      "execution_count": 16,
      "outputs": [
        {
          "output_type": "stream",
          "name": "stdout",
          "text": [
            "yek adad vared kon : 25\n",
            "35\n"
          ]
        }
      ]
    },
    {
      "cell_type": "code",
      "metadata": {
        "colab": {
          "base_uri": "https://localhost:8080/"
        },
        "id": "sjxcVr8HcmEa",
        "outputId": "2ff66c6a-a9b0-4e04-d5e8-1c75fd475314"
      },
      "source": [
        "z = int(input(\"yek adad vared kon : \"))\n",
        "print(z+10)\n"
      ],
      "execution_count": 17,
      "outputs": [
        {
          "output_type": "stream",
          "name": "stdout",
          "text": [
            "yek adad vared kon : 25\n",
            "35\n"
          ]
        }
      ]
    },
    {
      "cell_type": "code",
      "metadata": {
        "colab": {
          "base_uri": "https://localhost:8080/"
        },
        "id": "UL70aE2edQTU",
        "outputId": "29ca8c57-fb00-4427-c1b0-cb6bd3381338"
      },
      "source": [
        "# p = 2*pi*r , s= pi * r^2\n",
        "r = float(input(\"shoa ra vared kon : \"))\n",
        "pi = 3.14\n",
        "print(\"mohit barabar ast ba : \", 2*pi*r)\n",
        "print(\"masahat barabar ast ba : \", pi*(r**2))"
      ],
      "execution_count": 19,
      "outputs": [
        {
          "output_type": "stream",
          "name": "stdout",
          "text": [
            "shoa ra vared kon : 5\n",
            "mohit barabar ast ba :  31.400000000000002\n",
            "masahat barabar ast ba :  78.5\n"
          ]
        }
      ]
    },
    {
      "cell_type": "code",
      "metadata": {
        "colab": {
          "base_uri": "https://localhost:8080/"
        },
        "id": "Uk9YYWLrd9aS",
        "outputId": "17dca2f7-abcc-400f-ac6a-a996090e580c"
      },
      "source": [
        "#swap\n",
        "a = 20\n",
        "b = 30\n",
        "print(a,b)"
      ],
      "execution_count": 20,
      "outputs": [
        {
          "output_type": "stream",
          "name": "stdout",
          "text": [
            "20 30\n"
          ]
        }
      ]
    },
    {
      "cell_type": "code",
      "metadata": {
        "colab": {
          "base_uri": "https://localhost:8080/"
        },
        "id": "dkE_7eXvea8o",
        "outputId": "58927d9f-03c9-4619-db44-41ef1384a5a9"
      },
      "source": [
        "t = a\n",
        "a = b\n",
        "b = t\n",
        "print(a,b)"
      ],
      "execution_count": 21,
      "outputs": [
        {
          "output_type": "stream",
          "name": "stdout",
          "text": [
            "30 20\n"
          ]
        }
      ]
    },
    {
      "cell_type": "code",
      "metadata": {
        "colab": {
          "base_uri": "https://localhost:8080/"
        },
        "id": "R53qd649fCQv",
        "outputId": "25ddb9b2-40c8-4c31-ee70-1a111f0b15ba"
      },
      "source": [
        "x = -10\n",
        "y = 25\n",
        "print(x,y)\n",
        "x , y = y , x\n",
        "print(x,y)"
      ],
      "execution_count": 22,
      "outputs": [
        {
          "output_type": "stream",
          "name": "stdout",
          "text": [
            "-10 25\n",
            "25 -10\n"
          ]
        }
      ]
    },
    {
      "cell_type": "code",
      "metadata": {
        "id": "TPla0N51fLsS"
      },
      "source": [
        ""
      ],
      "execution_count": null,
      "outputs": []
    }
  ]
}