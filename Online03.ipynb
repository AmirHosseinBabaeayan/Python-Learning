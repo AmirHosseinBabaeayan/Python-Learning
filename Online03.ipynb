{
  "nbformat": 4,
  "nbformat_minor": 0,
  "metadata": {
    "colab": {
      "name": "Online03.ipynb",
      "provenance": []
    },
    "kernelspec": {
      "name": "python3",
      "display_name": "Python 3"
    },
    "language_info": {
      "name": "python"
    }
  },
  "cells": [
    {
      "cell_type": "code",
      "metadata": {
        "colab": {
          "base_uri": "https://localhost:8080/"
        },
        "id": "7kiNPHJ00VvU",
        "outputId": "1e3369f3-3962-4f7a-b5c6-cffe95d4030c"
      },
      "source": [
        "#1 - ali va hasan be madrese raftan.\n",
        "v = input(\"jomle ra vared kon : \")\n",
        "vlist = v.split(' ')\n",
        "print(len(vlist))"
      ],
      "execution_count": 4,
      "outputs": [
        {
          "output_type": "stream",
          "name": "stdout",
          "text": [
            "jomle ra vared kon : علی و اکبر به خانه رفتند\n",
            "6\n"
          ]
        }
      ]
    },
    {
      "cell_type": "code",
      "metadata": {
        "colab": {
          "base_uri": "https://localhost:8080/"
        },
        "id": "iDYhcmGD6Knp",
        "outputId": "2b4dcc75-8452-45c8-8651-2cc60f772045"
      },
      "source": [
        "vlist"
      ],
      "execution_count": 2,
      "outputs": [
        {
          "output_type": "execute_result",
          "data": {
            "text/plain": [
              "['ali', 'va', 'hasan', 'be', 'madrese', 'raftan.']"
            ]
          },
          "metadata": {},
          "execution_count": 2
        }
      ]
    },
    {
      "cell_type": "code",
      "metadata": {
        "colab": {
          "base_uri": "https://localhost:8080/"
        },
        "id": "A68tw8ru6OfO",
        "outputId": "a24db67e-79a4-4b66-a512-0e69076cbeb4"
      },
      "source": [
        "#2 - aabbcdddefgha\n",
        "string = input(\"reshte ra vared kon : \")\n",
        "d = dict()\n",
        "for c in string:\n",
        "  if d.get(c,False):\n",
        "    continue\n",
        "  else:\n",
        "    d[c]=string.count(c)\n",
        "\n",
        "for k,v in d.items():\n",
        "  print(k,\" ======> \", v)\n"
      ],
      "execution_count": 8,
      "outputs": [
        {
          "output_type": "stream",
          "name": "stdout",
          "text": [
            "reshte ra vared kon : امیرحسین\n",
            "ا  ======>  1\n",
            "م  ======>  1\n",
            "ی  ======>  2\n",
            "ر  ======>  1\n",
            "ح  ======>  1\n",
            "س  ======>  1\n",
            "ن  ======>  1\n"
          ]
        }
      ]
    },
    {
      "cell_type": "code",
      "metadata": {
        "colab": {
          "base_uri": "https://localhost:8080/"
        },
        "id": "cnBLuKlq7Yxf",
        "outputId": "facb4f14-7571-4a8f-d188-e4820cd16f2a"
      },
      "source": [
        "print(d)"
      ],
      "execution_count": 6,
      "outputs": [
        {
          "output_type": "stream",
          "name": "stdout",
          "text": [
            "{'a': 3, 'b': 2, 'c': 1, 'd': 3, 'e': 1, 'f': 1, 'g': 1, 'h': 1}\n"
          ]
        }
      ]
    },
    {
      "cell_type": "code",
      "metadata": {
        "id": "3BSoLYIC7cZd"
      },
      "source": [
        "#3-1\n",
        "def max3(a, b, c):\n",
        "  if a>b and a>c:\n",
        "    return a\n",
        "  elif b>a and b>c:\n",
        "    return b\n",
        "  else:\n",
        "    return c"
      ],
      "execution_count": 9,
      "outputs": []
    },
    {
      "cell_type": "code",
      "metadata": {
        "colab": {
          "base_uri": "https://localhost:8080/"
        },
        "id": "IRsgz1Tq9O1Y",
        "outputId": "f198b7f0-95eb-4209-ec1b-3571e8676945"
      },
      "source": [
        "max3(1,2,3)"
      ],
      "execution_count": 10,
      "outputs": [
        {
          "output_type": "execute_result",
          "data": {
            "text/plain": [
              "3"
            ]
          },
          "metadata": {},
          "execution_count": 10
        }
      ]
    },
    {
      "cell_type": "code",
      "metadata": {
        "colab": {
          "base_uri": "https://localhost:8080/"
        },
        "id": "p1-huKcc9RFC",
        "outputId": "ca9fe727-12c9-401b-8641-a691a8398ecb"
      },
      "source": [
        "max3(2,52,25)"
      ],
      "execution_count": 11,
      "outputs": [
        {
          "output_type": "execute_result",
          "data": {
            "text/plain": [
              "52"
            ]
          },
          "metadata": {},
          "execution_count": 11
        }
      ]
    },
    {
      "cell_type": "code",
      "metadata": {
        "colab": {
          "base_uri": "https://localhost:8080/"
        },
        "id": "occ3TLTQ9U3J",
        "outputId": "15479e0f-1b14-472c-8fd0-99c7792eb91f"
      },
      "source": [
        "x,y,z = 1,2,-10\n",
        "max3(x,y,z)"
      ],
      "execution_count": 12,
      "outputs": [
        {
          "output_type": "execute_result",
          "data": {
            "text/plain": [
              "2"
            ]
          },
          "metadata": {},
          "execution_count": 12
        }
      ]
    },
    {
      "cell_type": "code",
      "metadata": {
        "id": "vawUQeL49Zc8"
      },
      "source": [
        "#3-2\n",
        "def kamel(a):\n",
        "  maghsom = []\n",
        "  sum = 0\n",
        "  for i in range(1,(a//2)+1):\n",
        "    if a%i == 0 :\n",
        "      maghsom.append(i)\n",
        "      sum = sum + i\n",
        "  if sum == a :\n",
        "    return True\n",
        "  else:\n",
        "    return False\n",
        "    "
      ],
      "execution_count": 13,
      "outputs": []
    },
    {
      "cell_type": "code",
      "metadata": {
        "colab": {
          "base_uri": "https://localhost:8080/"
        },
        "id": "o7V0h89z-5SK",
        "outputId": "1cea7a16-62c2-41c9-cc5b-3b498f88e1ec"
      },
      "source": [
        "kamel(10)"
      ],
      "execution_count": 15,
      "outputs": [
        {
          "output_type": "execute_result",
          "data": {
            "text/plain": [
              "False"
            ]
          },
          "metadata": {},
          "execution_count": 15
        }
      ]
    },
    {
      "cell_type": "code",
      "metadata": {
        "colab": {
          "base_uri": "https://localhost:8080/"
        },
        "id": "Wfyuh_p9-74n",
        "outputId": "04eee0a9-4a40-4d85-8438-1307afe4a04a"
      },
      "source": [
        "kamel(6)"
      ],
      "execution_count": 16,
      "outputs": [
        {
          "output_type": "execute_result",
          "data": {
            "text/plain": [
              "True"
            ]
          },
          "metadata": {},
          "execution_count": 16
        }
      ]
    },
    {
      "cell_type": "code",
      "metadata": {
        "id": "SpKH9IP4---m"
      },
      "source": [
        "#3-2prim \n",
        "def kamel_maghsom(a):\n",
        "  maghsom = []\n",
        "  sum = 0\n",
        "  for i in range(1,(a//2)+1):\n",
        "    if a%i == 0 :\n",
        "      maghsom.append(i)\n",
        "      sum = sum + i\n",
        "  maghsom.append(a)\n",
        "  if sum == a :\n",
        "    return True,maghsom\n",
        "  else:\n",
        "    return False,maghsom\n",
        "    "
      ],
      "execution_count": 19,
      "outputs": []
    },
    {
      "cell_type": "code",
      "metadata": {
        "colab": {
          "base_uri": "https://localhost:8080/"
        },
        "id": "vlcSH3vR_LhK",
        "outputId": "de107179-ec46-4cd3-ee6c-d81768392950"
      },
      "source": [
        "kamel_maghsom(6)"
      ],
      "execution_count": 20,
      "outputs": [
        {
          "output_type": "execute_result",
          "data": {
            "text/plain": [
              "(True, [1, 2, 3, 6])"
            ]
          },
          "metadata": {},
          "execution_count": 20
        }
      ]
    },
    {
      "cell_type": "code",
      "metadata": {
        "id": "k_NpPxfq_OF1"
      },
      "source": [
        "xT, mT = kamel_maghsom(23)"
      ],
      "execution_count": 24,
      "outputs": []
    },
    {
      "cell_type": "code",
      "metadata": {
        "colab": {
          "base_uri": "https://localhost:8080/"
        },
        "id": "nHgskuXa_cZy",
        "outputId": "ea5499ac-c73c-4dc4-9b7c-efbdf84c86d5"
      },
      "source": [
        "xT"
      ],
      "execution_count": 26,
      "outputs": [
        {
          "output_type": "execute_result",
          "data": {
            "text/plain": [
              "False"
            ]
          },
          "metadata": {},
          "execution_count": 26
        }
      ]
    },
    {
      "cell_type": "code",
      "metadata": {
        "colab": {
          "base_uri": "https://localhost:8080/"
        },
        "id": "WOUfE9RI_dSe",
        "outputId": "020705a5-2177-4742-8493-566c5c0c5d68"
      },
      "source": [
        "mT"
      ],
      "execution_count": 25,
      "outputs": [
        {
          "output_type": "execute_result",
          "data": {
            "text/plain": [
              "[1, 23]"
            ]
          },
          "metadata": {},
          "execution_count": 25
        }
      ]
    },
    {
      "cell_type": "code",
      "metadata": {
        "id": "8l3vnfam_eR3"
      },
      "source": [
        "#3-3 \n",
        "def aval(x):\n",
        "  counter = 0\n",
        "  for i in range(2,(x//2)+1):\n",
        "    if x%i == 0:\n",
        "      counter = counter + 1 #counter +=1\n",
        "  if counter != 0:\n",
        "    return False\n",
        "  return True"
      ],
      "execution_count": 33,
      "outputs": []
    },
    {
      "cell_type": "code",
      "metadata": {
        "colab": {
          "base_uri": "https://localhost:8080/"
        },
        "id": "gAYEqC1GAYFY",
        "outputId": "6a929dd9-833b-48b0-ed13-1697779c3158"
      },
      "source": [
        "aval(10)"
      ],
      "execution_count": 34,
      "outputs": [
        {
          "output_type": "execute_result",
          "data": {
            "text/plain": [
              "False"
            ]
          },
          "metadata": {},
          "execution_count": 34
        }
      ]
    },
    {
      "cell_type": "code",
      "metadata": {
        "colab": {
          "base_uri": "https://localhost:8080/"
        },
        "id": "XzcHoVU8AZtK",
        "outputId": "2460ba26-f327-4286-fe0a-23b1f17350cb"
      },
      "source": [
        "aval(23)"
      ],
      "execution_count": 35,
      "outputs": [
        {
          "output_type": "execute_result",
          "data": {
            "text/plain": [
              "True"
            ]
          },
          "metadata": {},
          "execution_count": 35
        }
      ]
    },
    {
      "cell_type": "code",
      "metadata": {
        "colab": {
          "base_uri": "https://localhost:8080/"
        },
        "id": "zximCHNsAbEX",
        "outputId": "33f7b0cb-b999-40a7-b8e8-430c74eaf8ca"
      },
      "source": [
        "aval(2)"
      ],
      "execution_count": 36,
      "outputs": [
        {
          "output_type": "execute_result",
          "data": {
            "text/plain": [
              "True"
            ]
          },
          "metadata": {},
          "execution_count": 36
        }
      ]
    },
    {
      "cell_type": "code",
      "metadata": {
        "id": "5OS_6dl6Af9M"
      },
      "source": [
        "#3-4\n",
        "def fact(x):\n",
        "  f = 1\n",
        "  for i in range(2,x+1):\n",
        "    f *= i\n",
        "  return f"
      ],
      "execution_count": 39,
      "outputs": []
    },
    {
      "cell_type": "code",
      "metadata": {
        "colab": {
          "base_uri": "https://localhost:8080/"
        },
        "id": "zD065nS4BwNg",
        "outputId": "e74c1252-babf-464f-fb9b-b23d971ca691"
      },
      "source": [
        "fact(5)"
      ],
      "execution_count": 40,
      "outputs": [
        {
          "output_type": "execute_result",
          "data": {
            "text/plain": [
              "120"
            ]
          },
          "metadata": {},
          "execution_count": 40
        }
      ]
    },
    {
      "cell_type": "code",
      "metadata": {
        "id": "hwY88bpeByVp"
      },
      "source": [
        "def fact2(x):\n",
        "  f = 1\n",
        "  while(x!=1):\n",
        "    f *=x\n",
        "    x -=1\n",
        "  return f"
      ],
      "execution_count": 41,
      "outputs": []
    },
    {
      "cell_type": "code",
      "metadata": {
        "colab": {
          "base_uri": "https://localhost:8080/"
        },
        "id": "aL41Hg9ECjE-",
        "outputId": "8b2db50c-2535-44b8-e828-ea93a71606c2"
      },
      "source": [
        "fact2(5)"
      ],
      "execution_count": 42,
      "outputs": [
        {
          "output_type": "execute_result",
          "data": {
            "text/plain": [
              "120"
            ]
          },
          "metadata": {},
          "execution_count": 42
        }
      ]
    },
    {
      "cell_type": "code",
      "metadata": {
        "id": "fC1BswfkClBR"
      },
      "source": [
        "#3-5\n",
        "def bmm(x,y):\n",
        "  while(y != 0):\n",
        "    z = x//y\n",
        "    x, y = y, x-(y*z)\n",
        "  return x"
      ],
      "execution_count": 54,
      "outputs": []
    },
    {
      "cell_type": "code",
      "metadata": {
        "colab": {
          "base_uri": "https://localhost:8080/"
        },
        "id": "eVx42tS8Eiy1",
        "outputId": "de853fe3-37b6-4298-d5bf-308b851a796b"
      },
      "source": [
        "bmm(125,35)"
      ],
      "execution_count": 55,
      "outputs": [
        {
          "output_type": "execute_result",
          "data": {
            "text/plain": [
              "35"
            ]
          },
          "metadata": {},
          "execution_count": 55
        }
      ]
    },
    {
      "cell_type": "code",
      "metadata": {
        "id": "AaJbR9oFEkho"
      },
      "source": [
        "#3-6\n",
        "def kmm(x,y):\n",
        "  return (x*y)//bmm(x,y)"
      ],
      "execution_count": 45,
      "outputs": []
    },
    {
      "cell_type": "code",
      "metadata": {
        "colab": {
          "base_uri": "https://localhost:8080/"
        },
        "id": "sMnNh2DMEt5l",
        "outputId": "63cdce65-c612-40b7-e02f-8c6ee46bfabf"
      },
      "source": [
        "kmm(125,35)"
      ],
      "execution_count": 46,
      "outputs": [
        {
          "output_type": "execute_result",
          "data": {
            "text/plain": [
              "875"
            ]
          },
          "metadata": {},
          "execution_count": 46
        }
      ]
    },
    {
      "cell_type": "code",
      "metadata": {
        "id": "SMyc5cbSEwQM"
      },
      "source": [
        "def argham(number):\n",
        "  counter = 0\n",
        "  while(number != 0):\n",
        "    counter +=1\n",
        "    number = number // 10\n",
        "  return counter \n",
        "  "
      ],
      "execution_count": 47,
      "outputs": []
    },
    {
      "cell_type": "code",
      "metadata": {
        "colab": {
          "base_uri": "https://localhost:8080/"
        },
        "id": "5SEmbq_PFMcD",
        "outputId": "a4fb61c7-52e2-41d8-d44f-e7baa480f296"
      },
      "source": [
        "argham(12500)"
      ],
      "execution_count": 48,
      "outputs": [
        {
          "output_type": "execute_result",
          "data": {
            "text/plain": [
              "5"
            ]
          },
          "metadata": {},
          "execution_count": 48
        }
      ]
    },
    {
      "cell_type": "code",
      "metadata": {
        "colab": {
          "base_uri": "https://localhost:8080/"
        },
        "id": "In46s6eCFOTm",
        "outputId": "d6afe4f3-867b-40fd-96c1-034b4c758e68"
      },
      "source": [
        "argham(123456789)"
      ],
      "execution_count": 49,
      "outputs": [
        {
          "output_type": "execute_result",
          "data": {
            "text/plain": [
              "9"
            ]
          },
          "metadata": {},
          "execution_count": 49
        }
      ]
    },
    {
      "cell_type": "code",
      "metadata": {
        "id": "wkTY2RoHFQ0O"
      },
      "source": [
        "#3-7\n",
        "def sum_a(number):\n",
        "  sum = 0\n",
        "  while(number != 0):\n",
        "    sum += number%10\n",
        "    number = number // 10\n",
        "  return sum"
      ],
      "execution_count": 50,
      "outputs": []
    },
    {
      "cell_type": "code",
      "metadata": {
        "colab": {
          "base_uri": "https://localhost:8080/"
        },
        "id": "MPeOfJd1FbtJ",
        "outputId": "3dfc43b4-dac5-4448-e453-e8cfedf47047"
      },
      "source": [
        "sum_a(123)"
      ],
      "execution_count": 51,
      "outputs": [
        {
          "output_type": "execute_result",
          "data": {
            "text/plain": [
              "6"
            ]
          },
          "metadata": {},
          "execution_count": 51
        }
      ]
    },
    {
      "cell_type": "code",
      "metadata": {
        "colab": {
          "base_uri": "https://localhost:8080/"
        },
        "id": "VcpcGHSwFdgt",
        "outputId": "45d583fa-d522-4637-9a31-b0a0b4f2c94a"
      },
      "source": [
        "sum_a(10000000000000000)"
      ],
      "execution_count": 52,
      "outputs": [
        {
          "output_type": "execute_result",
          "data": {
            "text/plain": [
              "1"
            ]
          },
          "metadata": {},
          "execution_count": 52
        }
      ]
    },
    {
      "cell_type": "code",
      "metadata": {
        "colab": {
          "base_uri": "https://localhost:8080/"
        },
        "id": "A7BD1KojFfnq",
        "outputId": "0bef57d8-e99e-4ef3-b799-37d81ec218dd"
      },
      "source": [
        "sum_a(1258)"
      ],
      "execution_count": 53,
      "outputs": [
        {
          "output_type": "execute_result",
          "data": {
            "text/plain": [
              "16"
            ]
          },
          "metadata": {},
          "execution_count": 53
        }
      ]
    },
    {
      "cell_type": "code",
      "metadata": {
        "id": "Dh9K2O9QFiB8"
      },
      "source": [
        ""
      ],
      "execution_count": null,
      "outputs": []
    }
  ]
}