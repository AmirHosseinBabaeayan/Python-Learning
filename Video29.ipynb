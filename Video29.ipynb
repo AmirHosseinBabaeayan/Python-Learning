{
  "nbformat": 4,
  "nbformat_minor": 0,
  "metadata": {
    "colab": {
      "name": "Video29.ipynb",
      "provenance": []
    },
    "kernelspec": {
      "name": "python3",
      "display_name": "Python 3"
    },
    "language_info": {
      "name": "python"
    }
  },
  "cells": [
    {
      "cell_type": "code",
      "metadata": {
        "id": "drk4R7S4tGe8"
      },
      "source": [
        "import numpy as np"
      ],
      "execution_count": 3,
      "outputs": []
    },
    {
      "cell_type": "code",
      "metadata": {
        "id": "iKA3sMY7tpEt"
      },
      "source": [
        "x = np.array([1,2,3,4])"
      ],
      "execution_count": 4,
      "outputs": []
    },
    {
      "cell_type": "code",
      "metadata": {
        "id": "-du3j3l6t-2q"
      },
      "source": [
        "y = np.array([2,5,6,0])"
      ],
      "execution_count": 5,
      "outputs": []
    },
    {
      "cell_type": "code",
      "metadata": {
        "colab": {
          "base_uri": "https://localhost:8080/"
        },
        "id": "9LjTorHduIFH",
        "outputId": "7a0b6d4e-e22c-4155-d167-675617fc4497"
      },
      "source": [
        "x+y"
      ],
      "execution_count": 6,
      "outputs": [
        {
          "output_type": "execute_result",
          "data": {
            "text/plain": [
              "array([3, 7, 9, 4])"
            ]
          },
          "metadata": {},
          "execution_count": 6
        }
      ]
    },
    {
      "cell_type": "code",
      "metadata": {
        "colab": {
          "base_uri": "https://localhost:8080/"
        },
        "id": "O97n9h2CuJc5",
        "outputId": "d01f8c17-12ed-4521-e015-0e45f587c6df"
      },
      "source": [
        "x-y"
      ],
      "execution_count": 7,
      "outputs": [
        {
          "output_type": "execute_result",
          "data": {
            "text/plain": [
              "array([-1, -3, -3,  4])"
            ]
          },
          "metadata": {},
          "execution_count": 7
        }
      ]
    },
    {
      "cell_type": "code",
      "metadata": {
        "colab": {
          "base_uri": "https://localhost:8080/"
        },
        "id": "MsfMWS67uKHW",
        "outputId": "35dff5a7-7e1e-4489-b5bc-8d0c22a30131"
      },
      "source": [
        "x*y"
      ],
      "execution_count": 8,
      "outputs": [
        {
          "output_type": "execute_result",
          "data": {
            "text/plain": [
              "array([ 2, 10, 18,  0])"
            ]
          },
          "metadata": {},
          "execution_count": 8
        }
      ]
    },
    {
      "cell_type": "code",
      "metadata": {
        "colab": {
          "base_uri": "https://localhost:8080/"
        },
        "id": "AzWyR-xzuK8l",
        "outputId": "9db25c74-0199-4c30-f182-2c26ea3dde02"
      },
      "source": [
        "x.dot(y)"
      ],
      "execution_count": 9,
      "outputs": [
        {
          "output_type": "execute_result",
          "data": {
            "text/plain": [
              "30"
            ]
          },
          "metadata": {},
          "execution_count": 9
        }
      ]
    },
    {
      "cell_type": "code",
      "metadata": {
        "id": "Re5VyVoDuNJx"
      },
      "source": [
        "r = np.array([[1,2,3],\n",
        "              [4,5, -7.6]])"
      ],
      "execution_count": 10,
      "outputs": []
    },
    {
      "cell_type": "code",
      "metadata": {
        "colab": {
          "base_uri": "https://localhost:8080/"
        },
        "id": "8SNalsImudE-",
        "outputId": "5eb7314a-ac25-4842-d0a0-5318eb1d10cf"
      },
      "source": [
        "r"
      ],
      "execution_count": 11,
      "outputs": [
        {
          "output_type": "execute_result",
          "data": {
            "text/plain": [
              "array([[ 1. ,  2. ,  3. ],\n",
              "       [ 4. ,  5. , -7.6]])"
            ]
          },
          "metadata": {},
          "execution_count": 11
        }
      ]
    },
    {
      "cell_type": "code",
      "metadata": {
        "colab": {
          "base_uri": "https://localhost:8080/"
        },
        "id": "HXQvmAw8udtt",
        "outputId": "2d0a2768-f058-43d4-f5d4-e6ad0bb11f97"
      },
      "source": [
        "x[1]"
      ],
      "execution_count": 15,
      "outputs": [
        {
          "output_type": "execute_result",
          "data": {
            "text/plain": [
              "2"
            ]
          },
          "metadata": {},
          "execution_count": 15
        }
      ]
    },
    {
      "cell_type": "code",
      "metadata": {
        "colab": {
          "base_uri": "https://localhost:8080/"
        },
        "id": "lpEVTGcwukk3",
        "outputId": "5ed5b4e9-c3b2-499b-d81e-2069af7bf9fa"
      },
      "source": [
        "r[1,1]"
      ],
      "execution_count": 16,
      "outputs": [
        {
          "output_type": "execute_result",
          "data": {
            "text/plain": [
              "5.0"
            ]
          },
          "metadata": {},
          "execution_count": 16
        }
      ]
    },
    {
      "cell_type": "code",
      "metadata": {
        "colab": {
          "base_uri": "https://localhost:8080/"
        },
        "id": "itUBxcrnuviA",
        "outputId": "21e00332-b25f-4de3-853a-8ed94a38fc1b"
      },
      "source": [
        "x[1:3]"
      ],
      "execution_count": 18,
      "outputs": [
        {
          "output_type": "execute_result",
          "data": {
            "text/plain": [
              "array([2, 3])"
            ]
          },
          "metadata": {},
          "execution_count": 18
        }
      ]
    },
    {
      "cell_type": "code",
      "metadata": {
        "colab": {
          "base_uri": "https://localhost:8080/"
        },
        "id": "YSM93kf4uy08",
        "outputId": "96419323-d488-4f57-e961-0974450c2440"
      },
      "source": [
        "x[1:]"
      ],
      "execution_count": 19,
      "outputs": [
        {
          "output_type": "execute_result",
          "data": {
            "text/plain": [
              "array([2, 3, 4])"
            ]
          },
          "metadata": {},
          "execution_count": 19
        }
      ]
    },
    {
      "cell_type": "code",
      "metadata": {
        "id": "v4YPafk6u3JT"
      },
      "source": [
        "import matplotlib.pyplot as plt "
      ],
      "execution_count": 21,
      "outputs": []
    },
    {
      "cell_type": "code",
      "metadata": {
        "colab": {
          "base_uri": "https://localhost:8080/",
          "height": 283
        },
        "id": "7GXT9shKu_7x",
        "outputId": "caf60eb8-e6a6-46df-a817-0b76485c203e"
      },
      "source": [
        "x = np.array([1,6,7,8,9])\n",
        "y = 2*x\n",
        "z = 3*x - 1\n",
        "m = 5*x - 1\n",
        "plt.plot(x,m, c='blue')\n",
        "plt.plot(x,z, c='red')"
      ],
      "execution_count": 24,
      "outputs": [
        {
          "output_type": "execute_result",
          "data": {
            "text/plain": [
              "[<matplotlib.lines.Line2D at 0x7f2ee9fb0a10>]"
            ]
          },
          "metadata": {},
          "execution_count": 24
        },
        {
          "output_type": "display_data",
          "data": {
            "image/png": "[encoded data removed]",
            "text/plain": [
              "<Figure size 432x288 with 1 Axes>"
            ]
          },
          "metadata": {
            "needs_background": "light"
          }
        }
      ]
    },
    {
      "cell_type": "code",
      "metadata": {
        "id": "RMTYVxZuvNTK"
      },
      "source": [
        "n = 100\n",
        "x = np.linspace(0,10,n)"
      ],
      "execution_count": 29,
      "outputs": []
    },
    {
      "cell_type": "code",
      "metadata": {
        "colab": {
          "base_uri": "https://localhost:8080/"
        },
        "id": "FO29rCBAvwHm",
        "outputId": "30b3683a-149d-43bb-a813-8b04ace9310a"
      },
      "source": [
        "x"
      ],
      "execution_count": 28,
      "outputs": [
        {
          "output_type": "execute_result",
          "data": {
            "text/plain": [
              "array([ 0. ,  0.1,  0.2,  0.3,  0.4,  0.5,  0.6,  0.7,  0.8,  0.9,  1. ,\n",
              "        1.1,  1.2,  1.3,  1.4,  1.5,  1.6,  1.7,  1.8,  1.9,  2. ,  2.1,\n",
              "        2.2,  2.3,  2.4,  2.5,  2.6,  2.7,  2.8,  2.9,  3. ,  3.1,  3.2,\n",
              "        3.3,  3.4,  3.5,  3.6,  3.7,  3.8,  3.9,  4. ,  4.1,  4.2,  4.3,\n",
              "        4.4,  4.5,  4.6,  4.7,  4.8,  4.9,  5. ,  5.1,  5.2,  5.3,  5.4,\n",
              "        5.5,  5.6,  5.7,  5.8,  5.9,  6. ,  6.1,  6.2,  6.3,  6.4,  6.5,\n",
              "        6.6,  6.7,  6.8,  6.9,  7. ,  7.1,  7.2,  7.3,  7.4,  7.5,  7.6,\n",
              "        7.7,  7.8,  7.9,  8. ,  8.1,  8.2,  8.3,  8.4,  8.5,  8.6,  8.7,\n",
              "        8.8,  8.9,  9. ,  9.1,  9.2,  9.3,  9.4,  9.5,  9.6,  9.7,  9.8,\n",
              "        9.9, 10. ])"
            ]
          },
          "metadata": {},
          "execution_count": 28
        }
      ]
    },
    {
      "cell_type": "code",
      "metadata": {
        "id": "_qd_kk-Qvw0c"
      },
      "source": [
        "yp = 2*x"
      ],
      "execution_count": 32,
      "outputs": []
    },
    {
      "cell_type": "code",
      "metadata": {
        "colab": {
          "base_uri": "https://localhost:8080/"
        },
        "id": "-Ar9cTyOv_JB",
        "outputId": "14daf2a3-3f5a-4371-ff29-c0df66312dba"
      },
      "source": [
        "yp"
      ],
      "execution_count": 33,
      "outputs": [
        {
          "output_type": "execute_result",
          "data": {
            "text/plain": [
              "array([ 0.        ,  0.2020202 ,  0.4040404 ,  0.60606061,  0.80808081,\n",
              "        1.01010101,  1.21212121,  1.41414141,  1.61616162,  1.81818182,\n",
              "        2.02020202,  2.22222222,  2.42424242,  2.62626263,  2.82828283,\n",
              "        3.03030303,  3.23232323,  3.43434343,  3.63636364,  3.83838384,\n",
              "        4.04040404,  4.24242424,  4.44444444,  4.64646465,  4.84848485,\n",
              "        5.05050505,  5.25252525,  5.45454545,  5.65656566,  5.85858586,\n",
              "        6.06060606,  6.26262626,  6.46464646,  6.66666667,  6.86868687,\n",
              "        7.07070707,  7.27272727,  7.47474747,  7.67676768,  7.87878788,\n",
              "        8.08080808,  8.28282828,  8.48484848,  8.68686869,  8.88888889,\n",
              "        9.09090909,  9.29292929,  9.49494949,  9.6969697 ,  9.8989899 ,\n",
              "       10.1010101 , 10.3030303 , 10.50505051, 10.70707071, 10.90909091,\n",
              "       11.11111111, 11.31313131, 11.51515152, 11.71717172, 11.91919192,\n",
              "       12.12121212, 12.32323232, 12.52525253, 12.72727273, 12.92929293,\n",
              "       13.13131313, 13.33333333, 13.53535354, 13.73737374, 13.93939394,\n",
              "       14.14141414, 14.34343434, 14.54545455, 14.74747475, 14.94949495,\n",
              "       15.15151515, 15.35353535, 15.55555556, 15.75757576, 15.95959596,\n",
              "       16.16161616, 16.36363636, 16.56565657, 16.76767677, 16.96969697,\n",
              "       17.17171717, 17.37373737, 17.57575758, 17.77777778, 17.97979798,\n",
              "       18.18181818, 18.38383838, 18.58585859, 18.78787879, 18.98989899,\n",
              "       19.19191919, 19.39393939, 19.5959596 , 19.7979798 , 20.        ])"
            ]
          },
          "metadata": {},
          "execution_count": 33
        }
      ]
    },
    {
      "cell_type": "code",
      "metadata": {
        "id": "SoOktsozv_wW"
      },
      "source": [
        "y = 2*x + np.random.normal(0,1, size = n)"
      ],
      "execution_count": 34,
      "outputs": []
    },
    {
      "cell_type": "code",
      "metadata": {
        "colab": {
          "base_uri": "https://localhost:8080/"
        },
        "id": "T3souSD1wOIh",
        "outputId": "2cef2e0d-c3a9-445e-aa78-daafd18ce0e3"
      },
      "source": [
        "y"
      ],
      "execution_count": 35,
      "outputs": [
        {
          "output_type": "execute_result",
          "data": {
            "text/plain": [
              "array([ 0.33820134, -0.40419367,  0.15042283, -1.81667199,  0.13817912,\n",
              "        1.15142018,  2.47101059,  3.04082516,  2.24458591,  1.78299843,\n",
              "        0.9345134 ,  3.9236522 ,  1.02116435,  2.81226097,  1.57533778,\n",
              "        3.96673091,  2.91586391,  3.72406913,  4.48829013,  3.85017352,\n",
              "        2.75202758,  4.49344845,  4.95195122,  4.19717971,  4.91791187,\n",
              "        5.02718985,  5.94409686,  6.19653701,  6.65259511,  6.23139812,\n",
              "        5.52037964,  6.4708311 ,  5.21709935,  5.36363565,  6.87079442,\n",
              "        6.25256646,  6.40687337,  6.14377236,  6.88360427,  6.82486426,\n",
              "        7.96938899,  9.40202935, 10.55330119,  8.10268246,  9.23371114,\n",
              "        8.59725585,  8.21895788, 10.69070107, 11.05546763,  9.42285603,\n",
              "        8.94288034, 11.44464279,  8.7616077 , 11.97969986,  8.42408654,\n",
              "       11.63593696, 11.37946116, 12.95078458, 11.33508342, 11.78767394,\n",
              "       11.15211259, 12.34370586, 14.06548611, 13.49514578, 12.39630627,\n",
              "       13.918595  , 12.49001383, 12.22111304, 14.50492834, 15.99520399,\n",
              "       15.43910435, 15.28888927, 14.37337998, 15.09178587, 13.43908539,\n",
              "       15.76358797, 13.67422299, 15.1063266 , 14.1668185 , 13.74683124,\n",
              "       15.03167884, 15.93710025, 16.81312464, 16.68711782, 17.255317  ,\n",
              "       16.65389591, 16.70010693, 16.90715125, 19.24076866, 17.81583393,\n",
              "       17.66584996, 19.3867753 , 18.83306183, 20.14075768, 21.18102888,\n",
              "       20.05600895, 20.58869472, 19.87725509, 19.98837741, 19.72531617])"
            ]
          },
          "metadata": {},
          "execution_count": 35
        }
      ]
    },
    {
      "cell_type": "code",
      "metadata": {
        "colab": {
          "base_uri": "https://localhost:8080/"
        },
        "id": "LKK21kHWwOop",
        "outputId": "ceb9721e-4dd6-43f9-dc93-e1d7b70e50c0"
      },
      "source": [
        "y - yp"
      ],
      "execution_count": 36,
      "outputs": [
        {
          "output_type": "execute_result",
          "data": {
            "text/plain": [
              "array([ 3.38201335e-01, -6.06213867e-01, -2.53617576e-01, -2.42273260e+00,\n",
              "       -6.69901688e-01,  1.41319172e-01,  1.25888938e+00,  1.62668375e+00,\n",
              "        6.28424289e-01, -3.51833858e-02, -1.08568862e+00,  1.70142998e+00,\n",
              "       -1.40307807e+00,  1.85998344e-01, -1.25294505e+00,  9.36427885e-01,\n",
              "       -3.16459326e-01,  2.89725696e-01,  8.51926490e-01,  1.17896827e-02,\n",
              "       -1.28837646e+00,  2.51024207e-01,  5.07506772e-01, -4.49284940e-01,\n",
              "        6.94270198e-02, -2.33151980e-02,  6.91571611e-01,  7.41991552e-01,\n",
              "        9.96029451e-01,  3.72812265e-01, -5.40226422e-01,  2.08204837e-01,\n",
              "       -1.24754712e+00, -1.30303102e+00,  2.10755083e-03, -8.18140616e-01,\n",
              "       -8.65853900e-01, -1.33097512e+00, -7.93163410e-01, -1.05392362e+00,\n",
              "       -1.11419087e-01,  1.11920107e+00,  2.06845270e+00, -5.84186226e-01,\n",
              "        3.44822252e-01, -4.93653245e-01, -1.07397141e+00,  1.19575157e+00,\n",
              "        1.35849793e+00, -4.76133867e-01, -1.15812976e+00,  1.14161248e+00,\n",
              "       -1.74344281e+00,  1.27262916e+00, -2.48500437e+00,  5.24825846e-01,\n",
              "        6.63298506e-02,  1.43563307e+00, -3.82088294e-01, -1.31517980e-01,\n",
              "       -9.69099528e-01,  2.04735328e-02,  1.54023359e+00,  7.67873050e-01,\n",
              "       -5.32986660e-01,  7.87281872e-01, -8.43319507e-01, -1.31424050e+00,\n",
              "        7.67554606e-01,  2.05581005e+00,  1.29769021e+00,  9.45454922e-01,\n",
              "       -1.72074566e-01,  3.44311121e-01, -1.51040956e+00,  6.12072822e-01,\n",
              "       -1.67931237e+00, -4.49228955e-01, -1.59075726e+00, -2.21276472e+00,\n",
              "       -1.12993732e+00, -4.26536117e-01,  2.47468078e-01, -8.05589488e-02,\n",
              "        2.85620031e-01, -5.17821266e-01, -6.73630444e-01, -6.68606323e-01,\n",
              "        1.46299088e+00, -1.63964050e-01, -5.15968225e-01,  1.00293691e+00,\n",
              "        2.47203241e-01,  1.35287890e+00,  2.19112989e+00,  8.64089754e-01,\n",
              "        1.19475533e+00,  2.81295496e-01,  1.90397611e-01, -2.74683829e-01])"
            ]
          },
          "metadata": {},
          "execution_count": 36
        }
      ]
    },
    {
      "cell_type": "code",
      "metadata": {
        "colab": {
          "base_uri": "https://localhost:8080/",
          "height": 283
        },
        "id": "wxUH7YuOwQle",
        "outputId": "86ca652c-a078-4aee-cde7-7323d09be746"
      },
      "source": [
        "plt.scatter(x,y)"
      ],
      "execution_count": 37,
      "outputs": [
        {
          "output_type": "execute_result",
          "data": {
            "text/plain": [
              "<matplotlib.collections.PathCollection at 0x7f2eea4ec710>"
            ]
          },
          "metadata": {},
          "execution_count": 37
        },
        {
          "output_type": "display_data",
          "data": {
            "image/png": "[encoded data removed]",
            "text/plain": [
              "<Figure size 432x288 with 1 Axes>"
            ]
          },
          "metadata": {
            "needs_background": "light"
          }
        }
      ]
    },
    {
      "cell_type": "code",
      "metadata": {
        "id": "4-bjhNEowVdG"
      },
      "source": [
        ""
      ],
      "execution_count": null,
      "outputs": []
    }
  ]
}