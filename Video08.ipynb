{
  "nbformat": 4,
  "nbformat_minor": 0,
  "metadata": {
    "colab": {
      "name": "Video08.ipynb",
      "provenance": []
    },
    "kernelspec": {
      "name": "python3",
      "display_name": "Python 3"
    },
    "language_info": {
      "name": "python"
    }
  },
  "cells": [
    {
      "cell_type": "code",
      "metadata": {
        "colab": {
          "base_uri": "https://localhost:8080/"
        },
        "id": "c_tru-rykGwh",
        "outputId": "9f403303-b881-4496-9c3a-4379cc87009a"
      },
      "source": [
        "number = int(input(\"please enter a number : \"))\n",
        "if number > 0:\n",
        "  print(\"mosbat\")\n",
        "if number < 0:\n",
        "  print(\"manfi\")"
      ],
      "execution_count": 4,
      "outputs": [
        {
          "name": "stdout",
          "output_type": "stream",
          "text": [
            "please enter a number : 0\n"
          ]
        }
      ]
    },
    {
      "cell_type": "code",
      "metadata": {
        "colab": {
          "base_uri": "https://localhost:8080/"
        },
        "id": "tW4m7T1SlfPh",
        "outputId": "25137109-1a38-4b7e-b03a-a025d213cc2b"
      },
      "source": [
        "number = int(input(\"please enter a number : \"))\n",
        "if number > 0:\n",
        "  print(\"mosbat\")\n",
        "if number < 0:\n",
        "  print(\"manfi\")\n",
        "if number == 0:\n",
        "  print(\"zero (sefr)\")"
      ],
      "execution_count": 6,
      "outputs": [
        {
          "output_type": "stream",
          "name": "stdout",
          "text": [
            "please enter a number : 0\n",
            "zero (sefr)\n"
          ]
        }
      ]
    },
    {
      "cell_type": "code",
      "metadata": {
        "colab": {
          "base_uri": "https://localhost:8080/"
        },
        "id": "LphkmscamBjg",
        "outputId": "f16b3b94-3e50-49c5-a0ad-7df2271a9496"
      },
      "source": [
        "number = int(input(\"please enter a number : \"))\n",
        "if number >= 0:\n",
        "  print(\"mosbat ya sefr\")\n",
        "else:\n",
        "  print(\"manfi\")"
      ],
      "execution_count": 8,
      "outputs": [
        {
          "output_type": "stream",
          "name": "stdout",
          "text": [
            "please enter a number : -25\n",
            "manfi\n"
          ]
        }
      ]
    },
    {
      "cell_type": "code",
      "metadata": {
        "colab": {
          "base_uri": "https://localhost:8080/"
        },
        "id": "LGY4DX9HmjT7",
        "outputId": "388ef719-7281-435a-ca3c-08b6a9a27f5c"
      },
      "source": [
        "avg = float(input(\"moadel khodet r VARED KON :\"))\n",
        "if avg < 0 or avg > 20 :\n",
        "  print(\"moshkel darad.\")\n",
        "else:\n",
        "  if avg>=0 and avg<10:\n",
        "    print(\"oftade\")\n",
        "  else:\n",
        "    if avg >=10 and avg < 12:\n",
        "      print(\"mashroot\")"
      ],
      "execution_count": 14,
      "outputs": [
        {
          "output_type": "stream",
          "name": "stdout",
          "text": [
            "moadel khodet r VARED KON :11.5\n",
            "mashroot\n"
          ]
        }
      ]
    },
    {
      "cell_type": "code",
      "metadata": {
        "colab": {
          "base_uri": "https://localhost:8080/"
        },
        "id": "RsnL_VP7notl",
        "outputId": "811504ca-ed25-4972-89da-572e87cf27dd"
      },
      "source": [
        "avg = float(input(\"moadel khodet r VARED KON :\"))\n",
        "if avg < 0 or avg > 20 :\n",
        "  print(\"moshkel darad.\")\n",
        "elif avg>=0 and avg<10:\n",
        "  print(\"oftade\")\n",
        "elif avg>=10 and avg<12:\n",
        "  print(\"mashroot\")\n",
        "elif avg>=12 and avg<17:\n",
        "  print(\"B\")\n",
        "else:\n",
        "  print(\"A\")"
      ],
      "execution_count": 17,
      "outputs": [
        {
          "output_type": "stream",
          "name": "stdout",
          "text": [
            "moadel khodet r VARED KON :-5\n",
            "moshkel darad.\n"
          ]
        }
      ]
    },
    {
      "cell_type": "code",
      "metadata": {
        "id": "_6kgjokFojq0"
      },
      "source": [
        "17.25\n"
      ],
      "execution_count": null,
      "outputs": []
    }
  ]
}