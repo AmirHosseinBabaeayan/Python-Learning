{
  "nbformat": 4,
  "nbformat_minor": 0,
  "metadata": {
    "colab": {
      "name": "Video10.ipynb",
      "provenance": []
    },
    "kernelspec": {
      "name": "python3",
      "display_name": "Python 3"
    },
    "language_info": {
      "name": "python"
    }
  },
  "cells": [
    {
      "cell_type": "code",
      "metadata": {
        "id": "XeUdutX_bjtH"
      },
      "source": [
        "#Tuple\n",
        "t = ()"
      ],
      "execution_count": 1,
      "outputs": []
    },
    {
      "cell_type": "code",
      "metadata": {
        "colab": {
          "base_uri": "https://localhost:8080/"
        },
        "id": "180cUYdKcJkA",
        "outputId": "fc62a083-1bb8-4d91-a4a0-8ce4cabe5c77"
      },
      "source": [
        "\n",
        "t8 = tuple()\n",
        "type(t8)"
      ],
      "execution_count": 13,
      "outputs": [
        {
          "output_type": "execute_result",
          "data": {
            "text/plain": [
              "tuple"
            ]
          },
          "metadata": {},
          "execution_count": 13
        }
      ]
    },
    {
      "cell_type": "code",
      "metadata": {
        "id": "Uo0XUh2OcKtL"
      },
      "source": [
        "mt = (2, 3.14, \"ahb\", False)"
      ],
      "execution_count": 3,
      "outputs": []
    },
    {
      "cell_type": "code",
      "metadata": {
        "colab": {
          "base_uri": "https://localhost:8080/"
        },
        "id": "G5oZirsFcPnZ",
        "outputId": "7bae1d78-76e0-48a7-ad98-d19855f1af03"
      },
      "source": [
        "mt"
      ],
      "execution_count": 4,
      "outputs": [
        {
          "output_type": "execute_result",
          "data": {
            "text/plain": [
              "(2, 3.14, 'ahb', False)"
            ]
          },
          "metadata": {},
          "execution_count": 4
        }
      ]
    },
    {
      "cell_type": "code",
      "metadata": {
        "colab": {
          "base_uri": "https://localhost:8080/"
        },
        "id": "EaEu8XLdcQbu",
        "outputId": "2714c49e-14a8-4be7-c60b-f3e9b9ad087f"
      },
      "source": [
        "mt[0]"
      ],
      "execution_count": 5,
      "outputs": [
        {
          "output_type": "execute_result",
          "data": {
            "text/plain": [
              "2"
            ]
          },
          "metadata": {},
          "execution_count": 5
        }
      ]
    },
    {
      "cell_type": "code",
      "metadata": {
        "colab": {
          "base_uri": "https://localhost:8080/"
        },
        "id": "-K3YS8mHcV8G",
        "outputId": "141ec273-5385-434a-9879-e0b9f9b3bacd"
      },
      "source": [
        "mt.index('ahb')"
      ],
      "execution_count": 6,
      "outputs": [
        {
          "output_type": "execute_result",
          "data": {
            "text/plain": [
              "2"
            ]
          },
          "metadata": {},
          "execution_count": 6
        }
      ]
    },
    {
      "cell_type": "code",
      "metadata": {
        "colab": {
          "base_uri": "https://localhost:8080/",
          "height": 36
        },
        "id": "57MRqZYOceGn",
        "outputId": "c0da8ea8-a004-4002-e6fc-70f5f88feb15"
      },
      "source": [
        "mt[2]"
      ],
      "execution_count": 7,
      "outputs": [
        {
          "output_type": "execute_result",
          "data": {
            "application/vnd.google.colaboratory.intrinsic+json": {
              "type": "string"
            },
            "text/plain": [
              "'ahb'"
            ]
          },
          "metadata": {},
          "execution_count": 7
        }
      ]
    },
    {
      "cell_type": "code",
      "metadata": {
        "colab": {
          "base_uri": "https://localhost:8080/"
        },
        "id": "Tps_7PUMcgb7",
        "outputId": "ee1b10d3-534c-4a22-ae3b-14a6df0a5eee"
      },
      "source": [
        "mt.count(\"ahb\")"
      ],
      "execution_count": 8,
      "outputs": [
        {
          "output_type": "execute_result",
          "data": {
            "text/plain": [
              "1"
            ]
          },
          "metadata": {},
          "execution_count": 8
        }
      ]
    },
    {
      "cell_type": "code",
      "metadata": {
        "id": "_NDquGO_clHo"
      },
      "source": [
        "# Dictionary key-value\n",
        "d = {}"
      ],
      "execution_count": 9,
      "outputs": []
    },
    {
      "cell_type": "code",
      "metadata": {
        "colab": {
          "base_uri": "https://localhost:8080/"
        },
        "id": "Y7A7x52Ec2FQ",
        "outputId": "0c02caff-1108-403f-c126-7f4f9997d739"
      },
      "source": [
        "type(d)"
      ],
      "execution_count": 10,
      "outputs": [
        {
          "output_type": "execute_result",
          "data": {
            "text/plain": [
              "dict"
            ]
          },
          "metadata": {},
          "execution_count": 10
        }
      ]
    },
    {
      "cell_type": "code",
      "metadata": {
        "id": "ksrfzdTPc3r6"
      },
      "source": [
        "d = dict()"
      ],
      "execution_count": 11,
      "outputs": []
    },
    {
      "cell_type": "code",
      "metadata": {
        "id": "VA_jyRdxc58e"
      },
      "source": [
        "di = {\n",
        "    1:\"yek\",\n",
        "    \"1\":\"yek ch\",\n",
        "    \"2\":\"do\",\n",
        "    \"3\":\"se\"\n",
        "}"
      ],
      "execution_count": 22,
      "outputs": []
    },
    {
      "cell_type": "code",
      "metadata": {
        "colab": {
          "base_uri": "https://localhost:8080/"
        },
        "id": "RnGDoXjfdQLJ",
        "outputId": "9d3616a3-01af-4e3f-8d88-37ea8526cc21"
      },
      "source": [
        "di"
      ],
      "execution_count": 23,
      "outputs": [
        {
          "output_type": "execute_result",
          "data": {
            "text/plain": [
              "{1: 'yek', '1': 'yek ch', '2': 'do', '3': 'se'}"
            ]
          },
          "metadata": {},
          "execution_count": 23
        }
      ]
    },
    {
      "cell_type": "code",
      "metadata": {
        "colab": {
          "base_uri": "https://localhost:8080/",
          "height": 36
        },
        "id": "QmGybXRMdRHM",
        "outputId": "f0079539-dbb3-4dfe-94fe-71383a591ea5"
      },
      "source": [
        "di['1']"
      ],
      "execution_count": 24,
      "outputs": [
        {
          "output_type": "execute_result",
          "data": {
            "application/vnd.google.colaboratory.intrinsic+json": {
              "type": "string"
            },
            "text/plain": [
              "'yek ch'"
            ]
          },
          "metadata": {},
          "execution_count": 24
        }
      ]
    },
    {
      "cell_type": "code",
      "metadata": {
        "colab": {
          "base_uri": "https://localhost:8080/",
          "height": 36
        },
        "id": "M2bwBfgzdWos",
        "outputId": "7da32dc1-98e2-41dc-facd-0568caa5bbf2"
      },
      "source": [
        "di[1]"
      ],
      "execution_count": 25,
      "outputs": [
        {
          "output_type": "execute_result",
          "data": {
            "application/vnd.google.colaboratory.intrinsic+json": {
              "type": "string"
            },
            "text/plain": [
              "'yek'"
            ]
          },
          "metadata": {},
          "execution_count": 25
        }
      ]
    },
    {
      "cell_type": "code",
      "metadata": {
        "id": "TnjGl3_BdYC0"
      },
      "source": [
        "di[4]=\"chahar\""
      ],
      "execution_count": 26,
      "outputs": []
    },
    {
      "cell_type": "code",
      "metadata": {
        "colab": {
          "base_uri": "https://localhost:8080/"
        },
        "id": "I6AgBAOvdsq7",
        "outputId": "bb7a3905-aee4-45cb-ba81-379cacc465a2"
      },
      "source": [
        "di"
      ],
      "execution_count": 27,
      "outputs": [
        {
          "output_type": "execute_result",
          "data": {
            "text/plain": [
              "{1: 'yek', '1': 'yek ch', '2': 'do', '3': 'se', 4: 'chahar'}"
            ]
          },
          "metadata": {},
          "execution_count": 27
        }
      ]
    },
    {
      "cell_type": "code",
      "metadata": {
        "colab": {
          "base_uri": "https://localhost:8080/"
        },
        "id": "HdhdEIW5dtc4",
        "outputId": "657c5d95-72e5-4719-9d9a-85a48a567eae"
      },
      "source": [
        "#di[25]\n",
        "print(di.get(\"ali\",False))"
      ],
      "execution_count": 33,
      "outputs": [
        {
          "output_type": "stream",
          "name": "stdout",
          "text": [
            "False\n"
          ]
        }
      ]
    },
    {
      "cell_type": "code",
      "metadata": {
        "colab": {
          "base_uri": "https://localhost:8080/"
        },
        "id": "oyW8MVp5dx5r",
        "outputId": "9e0353d5-c258-4ef5-a9d3-e1b775a5210e"
      },
      "source": [
        "di = {\n",
        "    \"1\":\"yek ch\",\n",
        "    \"2\":\"do\",\n",
        "    \"3\":\"se\"\n",
        "}\n",
        "\n",
        "x = input(\"kilid ra vared konid : \")\n",
        "if di.get(x, False):\n",
        "  print(di[x])\n",
        "else:\n",
        "  di[x]=input(\"value ra vared kon : \")\n",
        "  print(\"ezafe shod...\")\n",
        "  print(di)"
      ],
      "execution_count": 37,
      "outputs": [
        {
          "output_type": "stream",
          "name": "stdout",
          "text": [
            "kilid ra vared konid : 4\n",
            "value ra vared kon : chahar\n",
            "ezafe shod...\n",
            "{'1': 'yek ch', '2': 'do', '3': 'se', '4': 'chahar'}\n"
          ]
        }
      ]
    },
    {
      "cell_type": "code",
      "metadata": {
        "id": "9OzGSR6meush"
      },
      "source": [
        ""
      ],
      "execution_count": null,
      "outputs": []
    }
  ]
}