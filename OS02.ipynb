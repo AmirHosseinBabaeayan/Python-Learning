{
  "nbformat": 4,
  "nbformat_minor": 0,
  "metadata": {
    "colab": {
      "name": "OS02.ipynb",
      "provenance": []
    },
    "kernelspec": {
      "name": "python3",
      "display_name": "Python 3"
    },
    "language_info": {
      "name": "python"
    }
  },
  "cells": [
    {
      "cell_type": "code",
      "metadata": {
        "id": "uM9oGuDn2EMS"
      },
      "source": [
        "x = int(input(\"adad 1 ra vared kon :\"))\n",
        "y = int(input(\"adad 2 ra vared kon :\"))\n",
        "ch = input(\"amalgar ra vared kon :\")\n",
        "if ch == \"+\":\n",
        "  print(x+y)\n",
        "elif ch == \"*\":\n",
        "  print(x*y)\n",
        "elif ch == \"-\":\n",
        "  print(x-y)\n",
        "else:\n",
        "  print(\"amalgar vared shode namotabar ast.\")"
      ],
      "execution_count": null,
      "outputs": []
    },
    {
      "cell_type": "code",
      "metadata": {
        "colab": {
          "base_uri": "https://localhost:8080/"
        },
        "id": "1iXoBFgzC1dE",
        "outputId": "6033c552-0d3b-4c07-9d8f-c1a22eaf286d"
      },
      "source": [
        "# with Dictionary \n",
        "x = int(input(\"adad 1 ra vared kon :\"))\n",
        "y = int(input(\"adad 2 ra vared kon :\"))\n",
        "ch = input(\"amalgar ra vared kon :\")\n",
        "d = {\n",
        "    \"+\":x+y,\n",
        "    \"-\":x-y,\n",
        "    \"*\":x*y\n",
        "}\n",
        "if d.get(ch,False):\n",
        "  print(d[ch])\n",
        "else:\n",
        "  print(\"amalgar eshtebah\")"
      ],
      "execution_count": 3,
      "outputs": [
        {
          "output_type": "stream",
          "name": "stdout",
          "text": [
            "adad 1 ra vared kon :25\n",
            "adad 2 ra vared kon :-38\n",
            "amalgar ra vared kon :-\n",
            "63\n"
          ]
        }
      ]
    },
    {
      "cell_type": "code",
      "metadata": {
        "id": "rGT6GAmaD5fp"
      },
      "source": [
        ""
      ],
      "execution_count": 2,
      "outputs": []
    }
  ]
}