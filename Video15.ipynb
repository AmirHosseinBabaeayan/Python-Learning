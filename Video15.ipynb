{
  "nbformat": 4,
  "nbformat_minor": 0,
  "metadata": {
    "colab": {
      "name": "Video15.ipynb",
      "provenance": []
    },
    "kernelspec": {
      "name": "python3",
      "display_name": "Python 3"
    },
    "language_info": {
      "name": "python"
    }
  },
  "cells": [
    {
      "cell_type": "code",
      "metadata": {
        "colab": {
          "base_uri": "https://localhost:8080/"
        },
        "id": "IIDLfFz3ybCU",
        "outputId": "75f90ade-7055-444e-81a3-6b1b1f4f889d"
      },
      "source": [
        "lis = [1,2,3,4]\n",
        "len(lis)"
      ],
      "execution_count": 1,
      "outputs": [
        {
          "output_type": "execute_result",
          "data": {
            "text/plain": [
              "4"
            ]
          },
          "metadata": {},
          "execution_count": 1
        }
      ]
    },
    {
      "cell_type": "code",
      "metadata": {
        "colab": {
          "base_uri": "https://localhost:8080/"
        },
        "id": "lyi2nqnN4FgS",
        "outputId": "dd799a22-b678-467e-ef04-a88e7a8653ab"
      },
      "source": [
        "s = \"amirhossein\"\n",
        "len(s)"
      ],
      "execution_count": 2,
      "outputs": [
        {
          "output_type": "execute_result",
          "data": {
            "text/plain": [
              "11"
            ]
          },
          "metadata": {},
          "execution_count": 2
        }
      ]
    },
    {
      "cell_type": "code",
      "metadata": {
        "colab": {
          "base_uri": "https://localhost:8080/"
        },
        "id": "SnDxVx1B4K5O",
        "outputId": "415345d8-4150-4b5a-9d7d-b22a20d2c2ed"
      },
      "source": [
        "#for\n",
        "esmha = [\"ali\", 'hasan', 'taghi', 'reza']\n",
        "for esm in esmha:\n",
        "  print(esm)\n",
        "\n"
      ],
      "execution_count": 3,
      "outputs": [
        {
          "output_type": "stream",
          "name": "stdout",
          "text": [
            "ali\n",
            "hasan\n",
            "taghi\n",
            "reza\n"
          ]
        }
      ]
    },
    {
      "cell_type": "code",
      "metadata": {
        "colab": {
          "base_uri": "https://localhost:8080/",
          "height": 36
        },
        "id": "DvL3Ze664wX-",
        "outputId": "4aa2e89b-68a4-4c4c-865c-d838507f7290"
      },
      "source": [
        "esmha[2]"
      ],
      "execution_count": 4,
      "outputs": [
        {
          "output_type": "execute_result",
          "data": {
            "application/vnd.google.colaboratory.intrinsic+json": {
              "type": "string"
            },
            "text/plain": [
              "'taghi'"
            ]
          },
          "metadata": {},
          "execution_count": 4
        }
      ]
    },
    {
      "cell_type": "code",
      "metadata": {
        "colab": {
          "base_uri": "https://localhost:8080/"
        },
        "id": "Q1xZh0mi5fS6",
        "outputId": "fd6c13a4-0cd9-460d-ffe4-b67a9c7f1a7f"
      },
      "source": [
        "for i in range(20,1,-2):\n",
        "  print(i)"
      ],
      "execution_count": 11,
      "outputs": [
        {
          "output_type": "stream",
          "name": "stdout",
          "text": [
            "20\n",
            "18\n",
            "16\n",
            "14\n",
            "12\n",
            "10\n",
            "8\n",
            "6\n",
            "4\n",
            "2\n"
          ]
        }
      ]
    },
    {
      "cell_type": "code",
      "metadata": {
        "colab": {
          "base_uri": "https://localhost:8080/"
        },
        "id": "UJrlmGj755mS",
        "outputId": "ec2ad130-f117-4b48-aabf-fea8f9fa7ec3"
      },
      "source": [
        "# esmha \n",
        "for i in range(len(esmha)):\n",
        "  print(esmha[i])\n",
        "  esmha[i]= esmha[i].upper()\n",
        "esmha"
      ],
      "execution_count": 14,
      "outputs": [
        {
          "output_type": "stream",
          "name": "stdout",
          "text": [
            "ali\n",
            "hasan\n",
            "taghi\n",
            "reza\n"
          ]
        },
        {
          "output_type": "execute_result",
          "data": {
            "text/plain": [
              "['ALI', 'HASAN', 'TAGHI', 'REZA']"
            ]
          },
          "metadata": {},
          "execution_count": 14
        }
      ]
    },
    {
      "cell_type": "code",
      "metadata": {
        "colab": {
          "base_uri": "https://localhost:8080/"
        },
        "id": "kzcsZe0B6VQy",
        "outputId": "840f6da9-a726-403d-fb4c-1f3f38c5af00"
      },
      "source": [
        "for ch in \"amirhossein babaeayan az hamedan\":\n",
        "  if ch == \" \":\n",
        "    continue\n",
        "  print(ch)"
      ],
      "execution_count": 18,
      "outputs": [
        {
          "output_type": "stream",
          "name": "stdout",
          "text": [
            "a\n",
            "m\n",
            "i\n",
            "r\n",
            "h\n",
            "o\n",
            "s\n",
            "s\n",
            "e\n",
            "i\n",
            "n\n",
            "b\n",
            "a\n",
            "b\n",
            "a\n",
            "e\n",
            "a\n",
            "y\n",
            "a\n",
            "n\n",
            "a\n",
            "z\n",
            "h\n",
            "a\n",
            "m\n",
            "e\n",
            "d\n",
            "a\n",
            "n\n"
          ]
        }
      ]
    },
    {
      "cell_type": "code",
      "metadata": {
        "colab": {
          "base_uri": "https://localhost:8080/"
        },
        "id": "4aRMVvCo61Gi",
        "outputId": "fbe676e2-3ac8-4120-c94f-60208d470ad9"
      },
      "source": [
        "num = int(input(\"tedad vorodi ha ra : \"))\n",
        "sum = 0\n",
        "sumy = 0\n",
        "for i in range(num):\n",
        "  print(\"==========\",i+1,\"=========\")\n",
        "  x = int(input(\"nomre : \"))\n",
        "  y = int(input(\"zarib : \"))\n",
        "  sum = x*y + sum\n",
        "  sumy = y+ sumy\n",
        "print(sum/sumy)\n",
        "\n"
      ],
      "execution_count": 22,
      "outputs": [
        {
          "output_type": "stream",
          "name": "stdout",
          "text": [
            "tedad vorodi ha ra : 5\n",
            "========== 1 =========\n",
            "nomre : 20\n",
            "zarib : 2\n",
            "========== 2 =========\n",
            "nomre : 19\n",
            "zarib : 2\n",
            "========== 3 =========\n",
            "nomre : 10\n",
            "zarib : 3\n",
            "========== 4 =========\n",
            "nomre : 9\n",
            "zarib : 1\n",
            "========== 5 =========\n",
            "nomre : 17\n",
            "zarib : 5\n",
            "15.538461538461538\n"
          ]
        }
      ]
    },
    {
      "cell_type": "code",
      "metadata": {
        "colab": {
          "base_uri": "https://localhost:8080/"
        },
        "id": "ospd9aii7aSw",
        "outputId": "e892a940-7f90-4070-a75a-3755fd3b4e39"
      },
      "source": [
        "l = [1,5,9,-1,3]\n",
        "sum = 0\n",
        "for item in l:\n",
        "  sum = sum + item\n",
        "print(\"avg = \",sum/len(l))\n",
        "print(\"sum = \", sum)"
      ],
      "execution_count": 23,
      "outputs": [
        {
          "output_type": "stream",
          "name": "stdout",
          "text": [
            "avg =  3.4\n",
            "sum =  17\n"
          ]
        }
      ]
    },
    {
      "cell_type": "code",
      "metadata": {
        "colab": {
          "base_uri": "https://localhost:8080/"
        },
        "id": "dDQVw5QJ87Mb",
        "outputId": "3a49780e-96fb-4a3c-867b-cce067c04fbf"
      },
      "source": [
        "l = [1,5,9,-1,3]\n",
        "sum = 0\n",
        "for i in range(len(l)):\n",
        "  sum = sum +l[i] \n",
        "print(\"avg = \",sum/len(l))\n",
        "print(\"sum = \", sum)"
      ],
      "execution_count": 24,
      "outputs": [
        {
          "output_type": "stream",
          "name": "stdout",
          "text": [
            "avg =  3.4\n",
            "sum =  17\n"
          ]
        }
      ]
    },
    {
      "cell_type": "code",
      "metadata": {
        "id": "bE8P8nfZ9INK"
      },
      "source": [
        "l = [1,5,9,-1,3]\n",
        "sum = 0\n",
        "for item in l:\n",
        "  item = 2"
      ],
      "execution_count": 25,
      "outputs": []
    },
    {
      "cell_type": "code",
      "metadata": {
        "colab": {
          "base_uri": "https://localhost:8080/"
        },
        "id": "G8l12DYY9QPM",
        "outputId": "2dd2e2c9-2850-4022-a003-3970b304d80c"
      },
      "source": [
        "l"
      ],
      "execution_count": 26,
      "outputs": [
        {
          "output_type": "execute_result",
          "data": {
            "text/plain": [
              "[1, 5, 9, -1, 3]"
            ]
          },
          "metadata": {},
          "execution_count": 26
        }
      ]
    },
    {
      "cell_type": "code",
      "metadata": {
        "id": "aaGJEG3D9Q_I"
      },
      "source": [
        "l = [1,5,9,-1,3]\n",
        "sum = 0\n",
        "for i in range(len(l)):\n",
        "  l[i] = 5"
      ],
      "execution_count": 29,
      "outputs": []
    },
    {
      "cell_type": "code",
      "metadata": {
        "colab": {
          "base_uri": "https://localhost:8080/"
        },
        "id": "Whv4S80F9V6L",
        "outputId": "b6a363e5-509e-4eb7-b9a0-4318d3e3dd52"
      },
      "source": [
        "l"
      ],
      "execution_count": 30,
      "outputs": [
        {
          "output_type": "execute_result",
          "data": {
            "text/plain": [
              "[5, 5, 5, 5, 5]"
            ]
          },
          "metadata": {},
          "execution_count": 30
        }
      ]
    },
    {
      "cell_type": "code",
      "metadata": {
        "id": "_oMq2gN99WbV"
      },
      "source": [
        ""
      ],
      "execution_count": null,
      "outputs": []
    }
  ]
}