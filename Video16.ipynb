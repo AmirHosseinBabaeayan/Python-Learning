{
  "nbformat": 4,
  "nbformat_minor": 0,
  "metadata": {
    "colab": {
      "name": "Video16.ipynb",
      "provenance": []
    },
    "kernelspec": {
      "name": "python3",
      "display_name": "Python 3"
    },
    "language_info": {
      "name": "python"
    }
  },
  "cells": [
    {
      "cell_type": "code",
      "metadata": {
        "id": "3JXDvtmcGAPq"
      },
      "source": [
        "d = {\n",
        "     1:\"do\",\n",
        "     2:\"se\",\n",
        "     3:\"chahar\"\n",
        "}"
      ],
      "execution_count": 13,
      "outputs": []
    },
    {
      "cell_type": "code",
      "metadata": {
        "colab": {
          "base_uri": "https://localhost:8080/"
        },
        "id": "6JAhbrIGGWgJ",
        "outputId": "cb97bcff-4cb7-4658-e7cf-969025a6edf0"
      },
      "source": [
        "type(d)"
      ],
      "execution_count": 2,
      "outputs": [
        {
          "output_type": "execute_result",
          "data": {
            "text/plain": [
              "dict"
            ]
          },
          "metadata": {},
          "execution_count": 2
        }
      ]
    },
    {
      "cell_type": "code",
      "metadata": {
        "colab": {
          "base_uri": "https://localhost:8080/",
          "height": 36
        },
        "id": "RDDw4x4MGX5_",
        "outputId": "d30c1967-b429-420d-f569-ef42d4d717c6"
      },
      "source": [
        "d[3]"
      ],
      "execution_count": 3,
      "outputs": [
        {
          "output_type": "execute_result",
          "data": {
            "application/vnd.google.colaboratory.intrinsic+json": {
              "type": "string"
            },
            "text/plain": [
              "'chahar'"
            ]
          },
          "metadata": {},
          "execution_count": 3
        }
      ]
    },
    {
      "cell_type": "code",
      "metadata": {
        "colab": {
          "base_uri": "https://localhost:8080/",
          "height": 36
        },
        "id": "8BNgc3-CGZ4p",
        "outputId": "163745ba-03c2-42d8-e85a-8bb59cf5f2ef"
      },
      "source": [
        "#d[\"3\"] # Key Error\n",
        "d.get(\"3\",\"vojod nadarad\")"
      ],
      "execution_count": 5,
      "outputs": [
        {
          "output_type": "execute_result",
          "data": {
            "application/vnd.google.colaboratory.intrinsic+json": {
              "type": "string"
            },
            "text/plain": [
              "'vojod nadarad'"
            ]
          },
          "metadata": {},
          "execution_count": 5
        }
      ]
    },
    {
      "cell_type": "code",
      "metadata": {
        "colab": {
          "base_uri": "https://localhost:8080/"
        },
        "id": "DhrV5u2FGcAM",
        "outputId": "94084075-42ef-4915-9185-38f3a3fc19b6"
      },
      "source": [
        "d.keys()"
      ],
      "execution_count": 6,
      "outputs": [
        {
          "output_type": "execute_result",
          "data": {
            "text/plain": [
              "dict_keys([1, 2, 3])"
            ]
          },
          "metadata": {},
          "execution_count": 6
        }
      ]
    },
    {
      "cell_type": "code",
      "metadata": {
        "colab": {
          "base_uri": "https://localhost:8080/"
        },
        "id": "ARmeJyJ3GrRy",
        "outputId": "71ef2fa8-3596-4091-e922-6e605bf91c7b"
      },
      "source": [
        "d.values()"
      ],
      "execution_count": 7,
      "outputs": [
        {
          "output_type": "execute_result",
          "data": {
            "text/plain": [
              "dict_values(['do', 'se', 'chahar'])"
            ]
          },
          "metadata": {},
          "execution_count": 7
        }
      ]
    },
    {
      "cell_type": "code",
      "metadata": {
        "colab": {
          "base_uri": "https://localhost:8080/"
        },
        "id": "Acdgw9y7Gun_",
        "outputId": "e6bb0cde-a9bf-44f1-e96d-0422c3a165ea"
      },
      "source": [
        "d.items()"
      ],
      "execution_count": 8,
      "outputs": [
        {
          "output_type": "execute_result",
          "data": {
            "text/plain": [
              "dict_items([(1, 'do'), (2, 'se'), (3, 'chahar')])"
            ]
          },
          "metadata": {},
          "execution_count": 8
        }
      ]
    },
    {
      "cell_type": "code",
      "metadata": {
        "colab": {
          "base_uri": "https://localhost:8080/"
        },
        "id": "DQYi71IwGxVm",
        "outputId": "5f6c9f70-80f0-4c41-83ba-ca1094b85be4"
      },
      "source": [
        "d = {\n",
        "     1:\"do\",\n",
        "     2:\"se\",\n",
        "     3:\"chahar\"\n",
        "}\n",
        "\n",
        "for Key in d.keys():\n",
        "  print(Key, \"=====>\", d[Key])"
      ],
      "execution_count": 10,
      "outputs": [
        {
          "output_type": "stream",
          "name": "stdout",
          "text": [
            "1 =====> do\n",
            "2 =====> se\n",
            "3 =====> chahar\n"
          ]
        }
      ]
    },
    {
      "cell_type": "code",
      "metadata": {
        "colab": {
          "base_uri": "https://localhost:8080/"
        },
        "id": "MABTmgxNHGeK",
        "outputId": "23393ff6-9d57-48c2-ddea-fde021147a79"
      },
      "source": [
        "for Key in d.keys():\n",
        "  print(Key, \"=====>\", d.get(Key))\n",
        "  d[Key]= \"ahb\"\n",
        "d"
      ],
      "execution_count": 12,
      "outputs": [
        {
          "output_type": "stream",
          "name": "stdout",
          "text": [
            "1 =====> do\n",
            "2 =====> se\n",
            "3 =====> chahar\n"
          ]
        },
        {
          "output_type": "execute_result",
          "data": {
            "text/plain": [
              "{1: 'ahb', 2: 'ahb', 3: 'ahb'}"
            ]
          },
          "metadata": {},
          "execution_count": 12
        }
      ]
    },
    {
      "cell_type": "code",
      "metadata": {
        "colab": {
          "base_uri": "https://localhost:8080/"
        },
        "id": "kMF9wN3tHOOs",
        "outputId": "419e077a-7894-44d7-b892-03a5a0725129"
      },
      "source": [
        "for k,v in d.items():\n",
        "  print(k, \"=====>\", v)\n",
        "  k = \"ahb\"\n",
        "d"
      ],
      "execution_count": 15,
      "outputs": [
        {
          "output_type": "stream",
          "name": "stdout",
          "text": [
            "1 =====> do\n",
            "2 =====> se\n",
            "3 =====> chahar\n"
          ]
        },
        {
          "output_type": "execute_result",
          "data": {
            "text/plain": [
              "{1: 'do', 2: 'se', 3: 'chahar'}"
            ]
          },
          "metadata": {},
          "execution_count": 15
        }
      ]
    },
    {
      "cell_type": "code",
      "metadata": {
        "id": "HeVQhYvKI3-D"
      },
      "source": [
        ""
      ],
      "execution_count": null,
      "outputs": []
    }
  ]
}